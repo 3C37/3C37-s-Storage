{
  "nbformat": 4,
  "nbformat_minor": 0,
  "metadata": {
    "colab": {
      "name": "사과.ipynb",
      "provenance": [],
      "collapsed_sections": [],
      "authorship_tag": "ABX9TyP42K8acM22Sevdf16ZW38O",
      "include_colab_link": true
    },
    "kernelspec": {
      "name": "python3",
      "display_name": "Python 3"
    },
    "language_info": {
      "name": "python"
    }
  },
  "cells": [
    {
      "cell_type": "markdown",
      "metadata": {
        "id": "view-in-github",
        "colab_type": "text"
      },
      "source": [
        "<a href=\"https://colab.research.google.com/github/3C37/3C37-s-Storage/blob/main/%EC%82%AC%EA%B3%BC.ipynb\" target=\"_parent\"><img src=\"https://colab.research.google.com/assets/colab-badge.svg\" alt=\"Open In Colab\"/></a>"
      ]
    },
    {
      "cell_type": "code",
      "execution_count": 1,
      "metadata": {
        "colab": {
          "base_uri": "https://localhost:8080/"
        },
        "id": "3kIsZzcvBDQy",
        "outputId": "71a86b35-98d1-4652-e4f9-98f3dbcba13c"
      },
      "outputs": [
        {
          "output_type": "stream",
          "name": "stdout",
          "text": [
            "5\n",
            "24 52\n",
            "13 22\n",
            "5 53\n",
            "23 10\n",
            "7 70\n",
            "26\n"
          ]
        }
      ],
      "source": [
        "## https://www.acmicpc.net/problem/10833\n",
        "\n",
        "N = int(input())\n",
        "\n",
        "result = 0\n",
        "\n",
        "for N in range(N):\n",
        "  a, b = map(int, input().split())\n",
        "  result += b%a\n",
        "\n",
        "print(result)"
      ]
    }
  ]
}