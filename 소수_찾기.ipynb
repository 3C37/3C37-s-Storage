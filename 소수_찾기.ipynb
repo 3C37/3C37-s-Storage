{
  "nbformat": 4,
  "nbformat_minor": 0,
  "metadata": {
    "colab": {
      "name": "소수 찾기.ipynb",
      "provenance": [],
      "collapsed_sections": [],
      "authorship_tag": "ABX9TyP0I/YFTCMXwGVRoA/v0Gpn",
      "include_colab_link": true
    },
    "kernelspec": {
      "name": "python3",
      "display_name": "Python 3"
    },
    "language_info": {
      "name": "python"
    }
  },
  "cells": [
    {
      "cell_type": "markdown",
      "metadata": {
        "id": "view-in-github",
        "colab_type": "text"
      },
      "source": [
        "<a href=\"https://colab.research.google.com/github/3C37/3C37-s-Storage/blob/main/%EC%86%8C%EC%88%98_%EC%B0%BE%EA%B8%B0.ipynb\" target=\"_parent\"><img src=\"https://colab.research.google.com/assets/colab-badge.svg\" alt=\"Open In Colab\"/></a>"
      ]
    },
    {
      "cell_type": "code",
      "execution_count": 27,
      "metadata": {
        "colab": {
          "base_uri": "https://localhost:8080/"
        },
        "id": "pcHYoiix-GI5",
        "outputId": "c9747117-31ad-4a9b-fe9f-63a793c26e80"
      },
      "outputs": [
        {
          "output_type": "stream",
          "name": "stdout",
          "text": [
            "4\n",
            "1 3 5 7\n",
            "3\n"
          ]
        }
      ],
      "source": [
        "## https://www.acmicpc.net/problem/1978\n",
        "\n",
        "N = int(input())\n",
        "num = list(input().split())\n",
        "cnt = 0\n",
        "\n",
        "for N in range(N):\n",
        "  tmp = int(num[N])\n",
        "  for i in range(2, tmp+1):\n",
        "    if tmp%(i) == 0 and tmp != i:\n",
        "      break\n",
        "    elif tmp == i:\n",
        "      cnt += 1\n",
        "print(cnt)"
      ]
    }
  ]
}