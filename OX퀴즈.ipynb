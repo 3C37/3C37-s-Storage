{
  "nbformat": 4,
  "nbformat_minor": 0,
  "metadata": {
    "colab": {
      "name": "OX퀴즈.ipynb",
      "provenance": [],
      "collapsed_sections": [],
      "authorship_tag": "ABX9TyMKohcL9HOYGzcaHaYjKFoC",
      "include_colab_link": true
    },
    "kernelspec": {
      "name": "python3",
      "display_name": "Python 3"
    },
    "language_info": {
      "name": "python"
    }
  },
  "cells": [
    {
      "cell_type": "markdown",
      "metadata": {
        "id": "view-in-github",
        "colab_type": "text"
      },
      "source": [
        "<a href=\"https://colab.research.google.com/github/3C37/3C37-s-Storage/blob/main/OX%ED%80%B4%EC%A6%88.ipynb\" target=\"_parent\"><img src=\"https://colab.research.google.com/assets/colab-badge.svg\" alt=\"Open In Colab\"/></a>"
      ]
    },
    {
      "cell_type": "code",
      "execution_count": 14,
      "metadata": {
        "colab": {
          "base_uri": "https://localhost:8080/"
        },
        "id": "VBxomFu4TlG8",
        "outputId": "9d73e7d3-688e-48ca-f4ce-8363b9c790fb"
      },
      "outputs": [
        {
          "output_type": "stream",
          "name": "stdout",
          "text": [
            "5\n",
            "OOXXOXXOOO\n",
            "10\n",
            "OOXXOOXXOO\n",
            "9\n",
            "OXOXOXOXOXOXOX\n",
            "7\n",
            "OOOOOOOOOO\n",
            "55\n",
            "OOOOXOOOOXOOOOX\n",
            "30\n"
          ]
        }
      ],
      "source": [
        "## https://www.acmicpc.net/problem/8958\n",
        "\n",
        "N = int(input())\n",
        "\n",
        "for i in range(N):\n",
        "  t = list(input())\n",
        "  score = 0\n",
        "  add = 0\n",
        "  tmp = 0\n",
        "  for j in t:\n",
        "    if j == \"O\":\n",
        "      add += 1\n",
        "      tmp += add\n",
        "    else:\n",
        "      score += tmp\n",
        "      add = 0\n",
        "      tmp = 0\n",
        "  print(score + tmp)"
      ]
    }
  ]
}