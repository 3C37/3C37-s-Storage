{
  "nbformat": 4,
  "nbformat_minor": 0,
  "metadata": {
    "colab": {
      "name": "괄호.ipynb",
      "provenance": [],
      "collapsed_sections": [],
      "authorship_tag": "ABX9TyPsDJGm/IxHGg5HEPE+HsKR",
      "include_colab_link": true
    },
    "kernelspec": {
      "name": "python3",
      "display_name": "Python 3"
    },
    "language_info": {
      "name": "python"
    }
  },
  "cells": [
    {
      "cell_type": "markdown",
      "metadata": {
        "id": "view-in-github",
        "colab_type": "text"
      },
      "source": [
        "<a href=\"https://colab.research.google.com/github/3C37/3C37-s-Storage/blob/main/%EA%B4%84%ED%98%B8.ipynb\" target=\"_parent\"><img src=\"https://colab.research.google.com/assets/colab-badge.svg\" alt=\"Open In Colab\"/></a>"
      ]
    },
    {
      "cell_type": "code",
      "execution_count": 9,
      "metadata": {
        "colab": {
          "base_uri": "https://localhost:8080/"
        },
        "id": "ZzOfSEQ7HVbd",
        "outputId": "80b06621-55cf-4f57-fb1c-0b12cbba6f51"
      },
      "outputs": [
        {
          "output_type": "stream",
          "name": "stdout",
          "text": [
            "3\n",
            "((\n",
            "NO\n",
            "))\n",
            "NO\n",
            "())(()\n",
            "NO\n"
          ]
        }
      ],
      "source": [
        "## https://www.acmicpc.net/problem/9012\n",
        "\n",
        "def is_VPS(x):\n",
        "  stack = 0\n",
        "  for i in range(len(x)):\n",
        "    if x[i] == \"(\":\n",
        "      stack += 1\n",
        "    else:\n",
        "      stack -= 1\n",
        "      if stack < 0:\n",
        "        print(\"NO\")\n",
        "        break\n",
        "  if stack == 0:\n",
        "    print(\"YES\")\n",
        "  elif stack > 0:\n",
        "    print(\"NO\")\n",
        "\n",
        "n = int(input())\n",
        "\n",
        "for i in range(n):\n",
        "  x = list(input())\n",
        "  is_VPS(x)"
      ]
    }
  ]
}