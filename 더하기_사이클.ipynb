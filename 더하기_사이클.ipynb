{
  "nbformat": 4,
  "nbformat_minor": 0,
  "metadata": {
    "colab": {
      "name": "더하기 사이클.ipynb",
      "provenance": [],
      "collapsed_sections": [],
      "authorship_tag": "ABX9TyMmEqPBPrBmkP/f+5BoPHwT",
      "include_colab_link": true
    },
    "kernelspec": {
      "name": "python3",
      "display_name": "Python 3"
    },
    "language_info": {
      "name": "python"
    }
  },
  "cells": [
    {
      "cell_type": "markdown",
      "metadata": {
        "id": "view-in-github",
        "colab_type": "text"
      },
      "source": [
        "<a href=\"https://colab.research.google.com/github/3C37/3C37-s-Storage/blob/main/%EB%8D%94%ED%95%98%EA%B8%B0_%EC%82%AC%EC%9D%B4%ED%81%B4.ipynb\" target=\"_parent\"><img src=\"https://colab.research.google.com/assets/colab-badge.svg\" alt=\"Open In Colab\"/></a>"
      ]
    },
    {
      "cell_type": "code",
      "execution_count": 15,
      "metadata": {
        "colab": {
          "base_uri": "https://localhost:8080/"
        },
        "id": "hGKSC6aZxAsb",
        "outputId": "ab37392d-d78a-4cee-d4ad-20267849f295"
      },
      "outputs": [
        {
          "output_type": "stream",
          "name": "stdout",
          "text": [
            "22\n",
            "1 회차  24\n",
            "2 회차  46\n",
            "3 회차  60\n",
            "4 회차  6\n",
            "5 회차  66\n",
            "6 회차  62\n",
            "7 회차  28\n",
            "8 회차  80\n",
            "9 회차  8\n",
            "10 회차  88\n",
            "11 회차  86\n",
            "12 회차  64\n",
            "13 회차  40\n",
            "14 회차  4\n",
            "15 회차  44\n",
            "16 회차  48\n",
            "17 회차  82\n",
            "18 회차  20\n",
            "19 회차  2\n",
            "20 회차  22\n",
            "20 회차에서 종료\n"
          ]
        }
      ],
      "source": [
        "## https://www.acmicpc.net/problem/1110 문제\n",
        "\n",
        "Number = int(input())\n",
        "N = Number\n",
        "Cy = 0\n",
        "\n",
        "if 99 >= N >= 0:\n",
        "  while True:  \n",
        "    if N < 10:\n",
        "      N = str(N).zfill(2)\n",
        "    else:\n",
        "      N = str(N)\n",
        "\n",
        "    N1 = int(N[0])\n",
        "    N2 = int(N[1])\n",
        "\n",
        "    Nadd = N1 + N2\n",
        "\n",
        "    if Nadd < 10:\n",
        "      Nadd = str(Nadd).zfill(2)\n",
        "\n",
        "    new = N[1] + str(Nadd)[1]\n",
        "    N = int(new)\n",
        "\n",
        "    Cy += 1\n",
        "\n",
        "    if Number == N:\n",
        "      print(Cy)\n",
        "      break\n",
        "    \n",
        "\n"
      ]
    },
    {
      "cell_type": "code",
      "source": [
        ""
      ],
      "metadata": {
        "id": "DHQBEuz2B-M8"
      },
      "execution_count": null,
      "outputs": []
    },
    {
      "cell_type": "code",
      "source": [
        ""
      ],
      "metadata": {
        "id": "tb_VuG_BB-ZO"
      },
      "execution_count": null,
      "outputs": []
    }
  ]
}