{
  "nbformat": 4,
  "nbformat_minor": 0,
  "metadata": {
    "colab": {
      "name": "더하기 사이클.ipynb",
      "provenance": [],
      "collapsed_sections": [],
      "authorship_tag": "ABX9TyMmEqPBPrBmkP/f+5BoPHwT",
      "include_colab_link": true
    },
    "kernelspec": {
      "name": "python3",
      "display_name": "Python 3"
    },
    "language_info": {
      "name": "python"
    }
  },
  "cells": [
    {
      "cell_type": "markdown",
      "metadata": {
        "id": "view-in-github",
        "colab_type": "text"
      },
      "source": [
        "<a href=\"https://colab.research.google.com/github/3C37/3C37-s-Storage/blob/main/%EB%8D%94%ED%95%98%EA%B8%B0_%EC%82%AC%EC%9D%B4%ED%81%B4.ipynb\" target=\"_parent\"><img src=\"https://colab.research.google.com/assets/colab-badge.svg\" alt=\"Open In Colab\"/></a>"
      ]
    },
    {
      "cell_type": "code",
      "execution_count": null,
      "metadata": {
        "id": "hGKSC6aZxAsb"
      },
      "outputs": [],
      "source": [
        "## https://www.acmicpc.net/problem/1110 문제\n",
        "\n",
        "Number = int(input())\n",
        "N = Number\n",
        "Cy = 0\n",
        "\n",
        "if 99 >= N >= 0:\n",
        "  while True:  \n",
        "    if N < 10:\n",
        "      N = str(N).zfill(2)\n",
        "    else:\n",
        "      N = str(N)\n",
        "\n",
        "    N1 = int(N[0])\n",
        "    N2 = int(N[1])\n",
        "\n",
        "    Nadd = N1 + N2\n",
        "\n",
        "    if Nadd < 10:\n",
        "      Nadd = str(Nadd).zfill(2)\n",
        "\n",
        "    new = N[1] + str(Nadd)[1]\n",
        "    N = int(new)\n",
        "\n",
        "    Cy += 1\n",
        "\n",
        "    if Number == N:\n",
        "      print(Cy)\n",
        "      break\n",
        "    \n",
        "\n"
      ]
    },
    {
      "cell_type": "code",
      "source": [
        ""
      ],
      "metadata": {
        "id": "DHQBEuz2B-M8"
      },
      "execution_count": null,
      "outputs": []
    },
    {
      "cell_type": "code",
      "source": [
        ""
      ],
      "metadata": {
        "id": "tb_VuG_BB-ZO"
      },
      "execution_count": null,
      "outputs": []
    }
  ]
}