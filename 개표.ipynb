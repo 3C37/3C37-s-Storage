{
  "nbformat": 4,
  "nbformat_minor": 0,
  "metadata": {
    "colab": {
      "name": "개표.ipynb",
      "provenance": [],
      "collapsed_sections": [],
      "authorship_tag": "ABX9TyNWPuigyjk/ln6l+op3wkLg",
      "include_colab_link": true
    },
    "kernelspec": {
      "name": "python3",
      "display_name": "Python 3"
    },
    "language_info": {
      "name": "python"
    }
  },
  "cells": [
    {
      "cell_type": "markdown",
      "metadata": {
        "id": "view-in-github",
        "colab_type": "text"
      },
      "source": [
        "<a href=\"https://colab.research.google.com/github/3C37/3C37-s-Storage/blob/main/%EA%B0%9C%ED%91%9C.ipynb\" target=\"_parent\"><img src=\"https://colab.research.google.com/assets/colab-badge.svg\" alt=\"Open In Colab\"/></a>"
      ]
    },
    {
      "cell_type": "code",
      "execution_count": 2,
      "metadata": {
        "id": "fDwSF7862JL3",
        "colab": {
          "base_uri": "https://localhost:8080/"
        },
        "outputId": "d16948d8-3e89-44cb-a31e-f24087a79072"
      },
      "outputs": [
        {
          "output_type": "stream",
          "name": "stdout",
          "text": [
            "4\n",
            "AABB\n",
            "Tie\n"
          ]
        }
      ],
      "source": [
        "## https://www.acmicpc.net/problem/10102\n",
        "\n",
        "V = int(input())\n",
        "poll = input()\n",
        "\n",
        "A = poll.count(\"A\")\n",
        "B = V - A\n",
        "\n",
        "if A > B:\n",
        "  print(\"A\")\n",
        "elif B > A:\n",
        "  print(\"B\")\n",
        "else:\n",
        "  print(\"Tie\")"
      ]
    }
  ]
}