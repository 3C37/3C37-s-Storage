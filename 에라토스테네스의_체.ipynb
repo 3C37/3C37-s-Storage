{
  "nbformat": 4,
  "nbformat_minor": 0,
  "metadata": {
    "colab": {
      "name": "에라토스테네스의 체.ipynb",
      "provenance": [],
      "collapsed_sections": [],
      "authorship_tag": "ABX9TyPT2SxgeJMf2MT9SJ4GswHz",
      "include_colab_link": true
    },
    "kernelspec": {
      "name": "python3",
      "display_name": "Python 3"
    },
    "language_info": {
      "name": "python"
    }
  },
  "cells": [
    {
      "cell_type": "markdown",
      "metadata": {
        "id": "view-in-github",
        "colab_type": "text"
      },
      "source": [
        "<a href=\"https://colab.research.google.com/github/3C37/3C37-s-Storage/blob/main/%EC%97%90%EB%9D%BC%ED%86%A0%EC%8A%A4%ED%85%8C%EB%84%A4%EC%8A%A4%EC%9D%98_%EC%B2%B4.ipynb\" target=\"_parent\"><img src=\"https://colab.research.google.com/assets/colab-badge.svg\" alt=\"Open In Colab\"/></a>"
      ]
    },
    {
      "cell_type": "code",
      "execution_count": 30,
      "metadata": {
        "colab": {
          "base_uri": "https://localhost:8080/"
        },
        "id": "Spv3YRYexVXh",
        "outputId": "d8b553dd-fd72-4b4f-8d8b-1ef6ad17cb2b"
      },
      "outputs": [
        {
          "output_type": "stream",
          "name": "stdout",
          "text": [
            "10 7\n",
            "9\n"
          ]
        }
      ],
      "source": [
        "## https://www.acmicpc.net/problem/2960\n",
        "\n",
        "N, K = map(int, input().split())\n",
        "\n",
        "prime = [True] * (N + 1)\n",
        "prime[0] = [False]\n",
        "prime[1] = [False]\n",
        "\n",
        "cnt = 0\n",
        "\n",
        "for i in range(2, N + 1):\n",
        "    for j in range(i, N + 1, i):\n",
        "      if prime[j]:\n",
        "        prime[j] = False\n",
        "        cnt += 1\n",
        "        if cnt == K:\n",
        "          print(j)\n",
        "          break"
      ]
    }
  ]
}