{
  "nbformat": 4,
  "nbformat_minor": 0,
  "metadata": {
    "colab": {
      "name": "오븐 시계.ipynb",
      "provenance": [],
      "collapsed_sections": [],
      "authorship_tag": "ABX9TyOV9mcdCCC/yQjTxnZi11f+",
      "include_colab_link": true
    },
    "kernelspec": {
      "name": "python3",
      "display_name": "Python 3"
    },
    "language_info": {
      "name": "python"
    }
  },
  "cells": [
    {
      "cell_type": "markdown",
      "metadata": {
        "id": "view-in-github",
        "colab_type": "text"
      },
      "source": [
        "<a href=\"https://colab.research.google.com/github/3C37/3C37-s-Storage/blob/main/%EC%98%A4%EB%B8%90_%EC%8B%9C%EA%B3%84.ipynb\" target=\"_parent\"><img src=\"https://colab.research.google.com/assets/colab-badge.svg\" alt=\"Open In Colab\"/></a>"
      ]
    },
    {
      "cell_type": "code",
      "execution_count": 2,
      "metadata": {
        "colab": {
          "base_uri": "https://localhost:8080/"
        },
        "id": "b7CZlfYWSsRx",
        "outputId": "a7617425-2d64-4efe-d7ad-c80bfce96105"
      },
      "outputs": [
        {
          "output_type": "stream",
          "name": "stdout",
          "text": [
            "14 30\n",
            "20\n",
            "14 50\n"
          ]
        }
      ],
      "source": [
        "## https://www.acmicpc.net/problem/2525\n",
        "\n",
        "H, M = map(int, input().split())\n",
        "cook_time = int(input())\n",
        "\n",
        "tmp = H*60 + M + cook_time\n",
        "\n",
        "H = tmp//60\n",
        "H = H%24\n",
        "M = tmp%60\n",
        "\n",
        "print(\"%s %s\" %(H, M))"
      ]
    }
  ]
}