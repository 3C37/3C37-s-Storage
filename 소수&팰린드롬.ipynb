{
  "nbformat": 4,
  "nbformat_minor": 0,
  "metadata": {
    "colab": {
      "name": "소수&팰린드롬.ipynb",
      "provenance": [],
      "collapsed_sections": [],
      "authorship_tag": "ABX9TyPLg5qKxkCBz9FVlg6ew9dU",
      "include_colab_link": true
    },
    "kernelspec": {
      "name": "python3",
      "display_name": "Python 3"
    },
    "language_info": {
      "name": "python"
    }
  },
  "cells": [
    {
      "cell_type": "markdown",
      "metadata": {
        "id": "view-in-github",
        "colab_type": "text"
      },
      "source": [
        "<a href=\"https://colab.research.google.com/github/3C37/3C37-s-Storage/blob/main/%EC%86%8C%EC%88%98%26%ED%8C%B0%EB%A6%B0%EB%93%9C%EB%A1%AC.ipynb\" target=\"_parent\"><img src=\"https://colab.research.google.com/assets/colab-badge.svg\" alt=\"Open In Colab\"/></a>"
      ]
    },
    {
      "cell_type": "code",
      "execution_count": null,
      "metadata": {
        "id": "FimEVOh7IGz1"
      },
      "outputs": [],
      "source": [
        "## https://www.acmicpc.net/problem/1747\n",
        "\n",
        "num = int(input())\n",
        "\n",
        "def check_palindrome(x):\n",
        "  if str(x) == str(x)[::-1]:\n",
        "    return True\n",
        "  else:\n",
        "    return False\n",
        "\n",
        "def check_prime(x):\n",
        "  if x == 1:\n",
        "    return False\n",
        "  else:\n",
        "    for i in range(2, int(x**0.5)+1):\n",
        "      if x%i == 0 and x != i:\n",
        "        return False    \n",
        "  return True\n",
        "\n",
        "while True:\n",
        "  if check_palindrome(num):\n",
        "    if check_prime(num):\n",
        "      print(num)\n",
        "      break\n",
        "  num += 1"
      ]
    }
  ]
}