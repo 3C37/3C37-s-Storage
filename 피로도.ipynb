{
  "nbformat": 4,
  "nbformat_minor": 0,
  "metadata": {
    "colab": {
      "name": "피로도.ipynb",
      "provenance": [],
      "collapsed_sections": [],
      "authorship_tag": "ABX9TyM1ECs1TgzfguE0YjJhISCm",
      "include_colab_link": true
    },
    "kernelspec": {
      "name": "python3",
      "display_name": "Python 3"
    },
    "language_info": {
      "name": "python"
    }
  },
  "cells": [
    {
      "cell_type": "markdown",
      "metadata": {
        "id": "view-in-github",
        "colab_type": "text"
      },
      "source": [
        "<a href=\"https://colab.research.google.com/github/3C37/3C37-s-Storage/blob/main/%ED%94%BC%EB%A1%9C%EB%8F%84.ipynb\" target=\"_parent\"><img src=\"https://colab.research.google.com/assets/colab-badge.svg\" alt=\"Open In Colab\"/></a>"
      ]
    },
    {
      "cell_type": "code",
      "execution_count": 25,
      "metadata": {
        "colab": {
          "base_uri": "https://localhost:8080/"
        },
        "id": "IISFzjHCJs1H",
        "outputId": "d2a80ff3-45f9-474e-f053-6c72d05f579f"
      },
      "outputs": [
        {
          "output_type": "stream",
          "name": "stdout",
          "text": [
            "10 5 1 10\n",
            "15\n"
          ]
        }
      ],
      "source": [
        "## https://www.acmicpc.net/problem/22864\n",
        "\n",
        "A, B, C, M = map(int, input().split())\n",
        "\n",
        "tired = 0\n",
        "work = 0\n",
        "\n",
        "if A > M:\n",
        "  print(0)\n",
        "else:\n",
        "  for i in range(24):\n",
        "    if tired + A <= M:\n",
        "      tired += A\n",
        "      work += B\n",
        "    else:\n",
        "      tired -= C\n",
        "      if tired < 0:\n",
        "        tired = 0\n",
        "\n",
        "  print(work)       "
      ]
    }
  ]
}