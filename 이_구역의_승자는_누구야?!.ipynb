{
  "nbformat": 4,
  "nbformat_minor": 0,
  "metadata": {
    "colab": {
      "name": "이 구역의 승자는 누구야?!.ipynb",
      "provenance": [],
      "collapsed_sections": [],
      "authorship_tag": "ABX9TyMp4ikRNkc22ZyibOL4HZ+w",
      "include_colab_link": true
    },
    "kernelspec": {
      "name": "python3",
      "display_name": "Python 3"
    },
    "language_info": {
      "name": "python"
    }
  },
  "cells": [
    {
      "cell_type": "markdown",
      "metadata": {
        "id": "view-in-github",
        "colab_type": "text"
      },
      "source": [
        "<a href=\"https://colab.research.google.com/github/3C37/3C37-s-Storage/blob/main/%EC%9D%B4_%EA%B5%AC%EC%97%AD%EC%9D%98_%EC%8A%B9%EC%9E%90%EB%8A%94_%EB%88%84%EA%B5%AC%EC%95%BC%3F!.ipynb\" target=\"_parent\"><img src=\"https://colab.research.google.com/assets/colab-badge.svg\" alt=\"Open In Colab\"/></a>"
      ]
    },
    {
      "cell_type": "code",
      "execution_count": 20,
      "metadata": {
        "colab": {
          "base_uri": "https://localhost:8080/"
        },
        "id": "MCeY602MHbPk",
        "outputId": "e65b8049-8108-4e6a-b0f2-7186a92b3e0a"
      },
      "outputs": [
        {
          "output_type": "stream",
          "name": "stdout",
          "text": [
            "ABCDE\n",
            "I'm a winner!\n"
          ]
        }
      ],
      "source": [
        "## https://www.acmicpc.net/problem/20154\n",
        "\n",
        "alpdict = {\"A\":3, \"B\":2, \"C\":1, \"D\":2, \"E\":3, \"F\":3, \"G\":3, \"H\":3, \"I\":1, \"J\":1, \"K\":3, \"L\":1, \"M\":3, \"N\":3, \"O\":1, \"P\":2, \"Q\":2, \"R\":2, \"S\":1, \"T\":2, \"U\":1, \"V\":1, \"W\":2, \"X\":2, \"Y\":2, \"Z\":1}\n",
        "\n",
        "sentence = input()\n",
        "\n",
        "alph = list(sentence)\n",
        "sum = 0\n",
        "\n",
        "for x in alph:\n",
        "  sum += alpdict[x]\n",
        "\n",
        "if sum%2 == 1:\n",
        "  print(\"I'm a winner!\")\n",
        "else:\n",
        "  print(\"You're the winner?\")"
      ]
    }
  ]
}