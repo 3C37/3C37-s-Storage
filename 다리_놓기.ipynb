{
  "nbformat": 4,
  "nbformat_minor": 0,
  "metadata": {
    "colab": {
      "name": "다리 놓기.ipynb",
      "provenance": [],
      "collapsed_sections": [],
      "authorship_tag": "ABX9TyPdHvQfJBZwgS/Q5qxxkzVU",
      "include_colab_link": true
    },
    "kernelspec": {
      "name": "python3",
      "display_name": "Python 3"
    },
    "language_info": {
      "name": "python"
    }
  },
  "cells": [
    {
      "cell_type": "markdown",
      "metadata": {
        "id": "view-in-github",
        "colab_type": "text"
      },
      "source": [
        "<a href=\"https://colab.research.google.com/github/3C37/3C37-s-Storage/blob/main/%EB%8B%A4%EB%A6%AC_%EB%86%93%EA%B8%B0.ipynb\" target=\"_parent\"><img src=\"https://colab.research.google.com/assets/colab-badge.svg\" alt=\"Open In Colab\"/></a>"
      ]
    },
    {
      "cell_type": "code",
      "execution_count": 8,
      "metadata": {
        "colab": {
          "base_uri": "https://localhost:8080/"
        },
        "id": "IDYJGV6IlW5O",
        "outputId": "f2479dcf-064c-42dc-8b0b-1636c2eaac71"
      },
      "outputs": [
        {
          "output_type": "stream",
          "name": "stdout",
          "text": [
            "3\n",
            "2 2\n",
            "1\n",
            "1 5\n",
            "5\n",
            "13 29\n",
            "67863915\n"
          ]
        }
      ],
      "source": [
        "## https://www.acmicpc.net/problem/1010\n",
        "\n",
        "import math\n",
        "\n",
        "cy = int(input())\n",
        "\n",
        "for cy in range(cy):\n",
        "  A, B = map(int, input().split())\n",
        "  print(math.factorial(B)//(math.factorial(A)*math.factorial(B-A)))"
      ]
    }
  ]
}