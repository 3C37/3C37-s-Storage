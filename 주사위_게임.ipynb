{
  "nbformat": 4,
  "nbformat_minor": 0,
  "metadata": {
    "colab": {
      "name": "주사위 게임.ipynb",
      "provenance": [],
      "collapsed_sections": [],
      "authorship_tag": "ABX9TyOF++eeSqgQwoXhS4vdoGv9",
      "include_colab_link": true
    },
    "kernelspec": {
      "name": "python3",
      "display_name": "Python 3"
    },
    "language_info": {
      "name": "python"
    }
  },
  "cells": [
    {
      "cell_type": "markdown",
      "metadata": {
        "id": "view-in-github",
        "colab_type": "text"
      },
      "source": [
        "<a href=\"https://colab.research.google.com/github/3C37/3C37-s-Storage/blob/main/%EC%A3%BC%EC%82%AC%EC%9C%84_%EA%B2%8C%EC%9E%84.ipynb\" target=\"_parent\"><img src=\"https://colab.research.google.com/assets/colab-badge.svg\" alt=\"Open In Colab\"/></a>"
      ]
    },
    {
      "cell_type": "code",
      "execution_count": 15,
      "metadata": {
        "colab": {
          "base_uri": "https://localhost:8080/"
        },
        "id": "eI_blD9hzAy5",
        "outputId": "2e544aac-8084-4e23-ced5-bc72b7504827"
      },
      "outputs": [
        {
          "output_type": "stream",
          "name": "stdout",
          "text": [
            "3\n",
            "3 3 6\n",
            "2 2 2\n",
            "6 2 5\n",
            "12000\n"
          ]
        }
      ],
      "source": [
        "## https://www.acmicpc.net/problem/2476\n",
        "\n",
        "import heapq\n",
        "\n",
        "N = int(input())\n",
        "\n",
        "rewards = []\n",
        "\n",
        "for N in range(N):\n",
        "  f, s, t = map(int, input().split())\n",
        "\n",
        "  if f == s == t:\n",
        "    heapq.heappush(rewards, [-(f * 1000 + 10000), f * 1000 + 10000])\n",
        "  elif f != s and f != t and s != t:\n",
        "    heapq.heappush(rewards, [-max(f, s, t) * 100, max(f, s, t) * 100])\n",
        "  else:\n",
        "    if f == s or f == t:\n",
        "      heapq.heappush(rewards, [-(1000 + f * 100), 1000 + f * 100])\n",
        "    else:\n",
        "      heapq.heappush(rewards, [-(1000 + t * 100), 1000 + t * 100])\n",
        "\n",
        "print(heapq.heappop(rewards)[1])"
      ]
    }
  ]
}