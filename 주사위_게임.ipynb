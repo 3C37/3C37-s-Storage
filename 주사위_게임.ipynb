{
  "nbformat": 4,
  "nbformat_minor": 0,
  "metadata": {
    "colab": {
      "name": "주사위 게임.ipynb",
      "provenance": [],
      "collapsed_sections": [],
      "authorship_tag": "ABX9TyPeJPek6ZZNXCXhBSMrcrD/",
      "include_colab_link": true
    },
    "kernelspec": {
      "name": "python3",
      "display_name": "Python 3"
    },
    "language_info": {
      "name": "python"
    }
  },
  "cells": [
    {
      "cell_type": "markdown",
      "metadata": {
        "id": "view-in-github",
        "colab_type": "text"
      },
      "source": [
        "<a href=\"https://colab.research.google.com/github/3C37/3C37-s-Storage/blob/main/%EC%A3%BC%EC%82%AC%EC%9C%84_%EA%B2%8C%EC%9E%84.ipynb\" target=\"_parent\"><img src=\"https://colab.research.google.com/assets/colab-badge.svg\" alt=\"Open In Colab\"/></a>"
      ]
    },
    {
      "cell_type": "code",
      "execution_count": 2,
      "metadata": {
        "colab": {
          "base_uri": "https://localhost:8080/"
        },
        "id": "7kEKwSqKxMOj",
        "outputId": "865c97ea-52d5-44cc-b7f7-7b6a9a1d4ac5"
      },
      "outputs": [
        {
          "output_type": "stream",
          "name": "stdout",
          "text": [
            "4\n",
            "5 6\n",
            "6 6\n",
            "4 3\n",
            "5 2\n",
            "94\n",
            "91\n"
          ]
        }
      ],
      "source": [
        "## https://www.acmicpc.net/problem/10103\n",
        "\n",
        "n = int(input())\n",
        "\n",
        "CYS, JSS = 100, 100\n",
        "\n",
        "for n in range(n):\n",
        "  CY, JS = map(int, input().split())\n",
        "  if CY > JS:\n",
        "    JSS -= CY\n",
        "  elif JS > CY:\n",
        "    CYS -= JS\n",
        "\n",
        "print(CYS)\n",
        "print(JSS)"
      ]
    }
  ]
}