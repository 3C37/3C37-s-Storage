{
  "nbformat": 4,
  "nbformat_minor": 0,
  "metadata": {
    "colab": {
      "name": "배수와 약수.ipynb",
      "provenance": [],
      "collapsed_sections": [],
      "authorship_tag": "ABX9TyNFmCibKMRL5t1uGaHvOKpe",
      "include_colab_link": true
    },
    "kernelspec": {
      "name": "python3",
      "display_name": "Python 3"
    },
    "language_info": {
      "name": "python"
    }
  },
  "cells": [
    {
      "cell_type": "markdown",
      "metadata": {
        "id": "view-in-github",
        "colab_type": "text"
      },
      "source": [
        "<a href=\"https://colab.research.google.com/github/3C37/3C37-s-Storage/blob/main/%EB%B0%B0%EC%88%98%EC%99%80_%EC%95%BD%EC%88%98.ipynb\" target=\"_parent\"><img src=\"https://colab.research.google.com/assets/colab-badge.svg\" alt=\"Open In Colab\"/></a>"
      ]
    },
    {
      "cell_type": "code",
      "source": [
        "## https://www.acmicpc.net/problem/5086\n",
        "\n",
        "while True:\n",
        "  A, B = map(int, input().split())\n",
        "  if A == B == 0:\n",
        "    break\n",
        "  elif A > B and A % B == 0:\n",
        "    print(\"multiple\")\n",
        "  elif B > A and B % A == 0:\n",
        "    print(\"factor\")\n",
        "  else:\n",
        "    print(\"neither\")"
      ],
      "metadata": {
        "id": "x0l06wM9SjdK",
        "colab": {
          "base_uri": "https://localhost:8080/"
        },
        "outputId": "e3c766bf-1557-4490-c940-cad0d517d265"
      },
      "execution_count": 1,
      "outputs": [
        {
          "name": "stdout",
          "output_type": "stream",
          "text": [
            "8 16\n",
            "factor\n",
            "32 4\n",
            "multiple\n",
            "17 5\n",
            "neither\n",
            "0 0\n"
          ]
        }
      ]
    }
  ]
}