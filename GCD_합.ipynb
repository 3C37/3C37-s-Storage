{
  "nbformat": 4,
  "nbformat_minor": 0,
  "metadata": {
    "colab": {
      "name": "GCD 합.ipynb",
      "provenance": [],
      "collapsed_sections": [],
      "authorship_tag": "ABX9TyNC6DckaO9gxF8eFwc3lzyc",
      "include_colab_link": true
    },
    "kernelspec": {
      "name": "python3",
      "display_name": "Python 3"
    },
    "language_info": {
      "name": "python"
    }
  },
  "cells": [
    {
      "cell_type": "markdown",
      "metadata": {
        "id": "view-in-github",
        "colab_type": "text"
      },
      "source": [
        "<a href=\"https://colab.research.google.com/github/3C37/3C37-s-Storage/blob/main/GCD_%ED%95%A9.ipynb\" target=\"_parent\"><img src=\"https://colab.research.google.com/assets/colab-badge.svg\" alt=\"Open In Colab\"/></a>"
      ]
    },
    {
      "cell_type": "code",
      "execution_count": 4,
      "metadata": {
        "colab": {
          "base_uri": "https://localhost:8080/"
        },
        "id": "mBYWn0kLPG1U",
        "outputId": "fa76cd61-3fc8-40d2-d693-b5c2a8be2b04"
      },
      "outputs": [
        {
          "output_type": "stream",
          "name": "stdout",
          "text": [
            "3\n",
            "4 10 20 30 40\n",
            "70\n",
            "3 7 5 12\n",
            "3\n",
            "3 125 15 25\n",
            "35\n"
          ]
        }
      ],
      "source": [
        "## https://www.acmicpc.net/problem/9613\n",
        "\n",
        "import heapq\n",
        "\n",
        "def gcd(a, b):\n",
        "  A, B = max(a, b), min(a, b)\n",
        "  while A%B != 0:\n",
        "    A, B = B, A%B\n",
        "  return(B)\n",
        "\n",
        "def gcd_sum(q):\n",
        "  sum = 0\n",
        "  while True:\n",
        "    if len(q) == 1:\n",
        "      print(sum)\n",
        "      break\n",
        "    elif len(q) >= 2:\n",
        "      tmp = heapq.heappop(q)\n",
        "      for i in range(len(q)):\n",
        "        sum += gcd(tmp, q[i])\n",
        "\n",
        "n = int(input())\n",
        "for i in range(n):\n",
        "  gcd_sum(list(map(int, input().split()))[1:])"
      ]
    }
  ]
}