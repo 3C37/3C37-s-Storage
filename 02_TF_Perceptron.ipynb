{
  "nbformat": 4,
  "nbformat_minor": 0,
  "metadata": {
    "kernelspec": {
      "name": "python3",
      "display_name": "Python 3"
    },
    "language_info": {
      "codemirror_mode": {
        "name": "ipython",
        "version": 3
      },
      "file_extension": ".py",
      "mimetype": "text/x-python",
      "name": "python",
      "nbconvert_exporter": "python",
      "pygments_lexer": "ipython3",
      "version": "3.6.9"
    },
    "colab": {
      "name": "02-TF_Perceptron.ipynb",
      "provenance": [],
      "collapsed_sections": [],
      "include_colab_link": true
    }
  },
  "cells": [
    {
      "cell_type": "markdown",
      "metadata": {
        "id": "view-in-github",
        "colab_type": "text"
      },
      "source": [
        "<a href=\"https://colab.research.google.com/github/3C37/3C37-s-Storage/blob/main/02_TF_Perceptron.ipynb\" target=\"_parent\"><img src=\"https://colab.research.google.com/assets/colab-badge.svg\" alt=\"Open In Colab\"/></a>"
      ]
    },
    {
      "cell_type": "markdown",
      "metadata": {
        "id": "wDfwXlAecD1q"
      },
      "source": [
        "# 퍼셉트론(Perceptron)"
      ]
    },
    {
      "cell_type": "code",
      "metadata": {
        "id": "LAOKYHqocD1v"
      },
      "source": [
        "import numpy as np\n",
        "import tensorflow as tf\n",
        "import matplotlib.pyplot as plt"
      ],
      "execution_count": null,
      "outputs": []
    },
    {
      "cell_type": "markdown",
      "metadata": {
        "id": "MXkD0SlMNKr6"
      },
      "source": [
        "## Perceptron Operation"
      ]
    },
    {
      "cell_type": "code",
      "metadata": {
        "id": "leTzcTJZNIvR",
        "colab": {
          "base_uri": "https://localhost:8080/"
        },
        "outputId": "00f7aaeb-db7b-4be7-823e-6c924fd7b263"
      },
      "source": [
        "## data 선언\n",
        "x_data =[[1.],[2.],[3.]]\n",
        "y_data =[[1.],[2.],[3.]]\n",
        "\n",
        "## 평균 0, 분산 1의 파라미터의 정규분포로 부터 값을 가져옴.\n",
        "# 학습을 통해 업데이트가 되어 변화되는 모델의 파라미터인 w,b를 의미한다.\n",
        "W=tf.Variable(tf.random.normal((1,1), mean=1, stddev=0.5))\n",
        "b=tf.Variable(tf.random.normal((1,1), mean=1, stddev=0.5))\n",
        "print(\"W : \", W)\n",
        "print(\"b : \", b)\n",
        "\n",
        "for j in range(len(x_data)):\n",
        "    ## data * weight\n",
        "    WX =tf.matmul([x_data[j]], W)\n",
        "\n",
        "    ## bias add\n",
        "    y_hat = tf.add(WX, b)\n",
        "\n",
        "    ## W와 b로 예측 하기\n",
        "    print(\"y_data: , \",y_data[j], \"prediction : \", y_hat)"
      ],
      "execution_count": null,
      "outputs": [
        {
          "output_type": "stream",
          "name": "stdout",
          "text": [
            "W :  <tf.Variable 'Variable:0' shape=(1, 1) dtype=float32, numpy=array([[0.930828]], dtype=float32)>\n",
            "b :  <tf.Variable 'Variable:0' shape=(1, 1) dtype=float32, numpy=array([[0.68094915]], dtype=float32)>\n",
            "y_data: ,  [1.0] prediction :  tf.Tensor([[1.6117771]], shape=(1, 1), dtype=float32)\n",
            "y_data: ,  [2.0] prediction :  tf.Tensor([[2.5426052]], shape=(1, 1), dtype=float32)\n",
            "y_data: ,  [3.0] prediction :  tf.Tensor([[3.473433]], shape=(1, 1), dtype=float32)\n"
          ]
        }
      ]
    },
    {
      "cell_type": "markdown",
      "metadata": {
        "id": "kd_8wTMfcD13"
      },
      "source": [
        "## 논리 게이트"
      ]
    },
    {
      "cell_type": "code",
      "metadata": {
        "id": "GW5GxCHUcD14",
        "colab": {
          "base_uri": "https://localhost:8080/"
        },
        "outputId": "3887b8af-27fb-41cc-d618-4a46be16d49a"
      },
      "source": [
        "def activation(x):\n",
        "    return tf.cast((x > 0), dtype=tf.float32)\n",
        "\n",
        "# AND 게이트 함수 정의\n",
        "def AND(x, w, b):\n",
        "    z = tf.math.reduce_sum(w * x) + b           \n",
        "    a = activation(z)\n",
        "    return a\n",
        "\n",
        "# NAND 게이트 함수 정의\n",
        "def NAND(x, w, b):\n",
        "    z = tf.math.reduce_sum(w * x) + b\n",
        "    a = activation(z)\n",
        "    return a\n",
        "\n",
        "# AND 게이트 함수 정의\n",
        "def OR(x, w, b):\n",
        "    z = tf.math.reduce_sum(w * x) + b\n",
        "    a = activation(z)\n",
        "    return a\n",
        "\n",
        "# 각 게이트에 알맞는 w, b 가중치 생성\n",
        "w_and = tf.Variable([0.5, 0.5])  \n",
        "b_and = tf.Variable([-0.7])\n",
        "w_nand = tf.Variable([-0.5, -0.5])  \n",
        "b_nand = tf.Variable([0.7])\n",
        "w_or = tf.Variable([0.5, 0.5]) \n",
        "b_or = tf.Variable([-0.2])\n",
        "\n",
        "# 입력 텐서를 만들어 결과 확인\n",
        "X = tf.constant([[0, 0], [0, 1], [1, 0], [1, 1]], dtype=tf.float32)\n",
        "for x in X:\n",
        "    print(f\"input : {x}\")\n",
        "    print(\" - AND:\", AND(x, w=w_and, b=b_and).numpy())\n",
        "    print(\" - NAND:\", NAND(x, w=w_nand, b=b_nand).numpy())\n",
        "    print(\" - OR:\", OR(x, w=w_or, b=b_or).numpy())\n",
        "    print(\"--\"*15)"
      ],
      "execution_count": null,
      "outputs": [
        {
          "output_type": "stream",
          "name": "stdout",
          "text": [
            "input : [0. 0.]\n",
            " - AND: [0.]\n",
            " - NAND: [1.]\n",
            " - OR: [0.]\n",
            "------------------------------\n",
            "input : [0. 1.]\n",
            " - AND: [0.]\n",
            " - NAND: [1.]\n",
            " - OR: [1.]\n",
            "------------------------------\n",
            "input : [1. 0.]\n",
            " - AND: [0.]\n",
            " - NAND: [1.]\n",
            " - OR: [1.]\n",
            "------------------------------\n",
            "input : [1. 1.]\n",
            " - AND: [1.]\n",
            " - NAND: [0.]\n",
            " - OR: [1.]\n",
            "------------------------------\n"
          ]
        }
      ]
    },
    {
      "cell_type": "markdown",
      "metadata": {
        "id": "gn_YJQVWcD2B"
      },
      "source": [
        "## XOR 문제"
      ]
    },
    {
      "cell_type": "code",
      "metadata": {
        "id": "m9l0IlmlcD2E",
        "colab": {
          "base_uri": "https://localhost:8080/"
        },
        "outputId": "6989bec1-45f1-4d0e-add8-93a2f78d209d"
      },
      "source": [
        "def solution(x, **kwargs):\n",
        "\n",
        "    # 정답을 작성해주세요.\n",
        "    \n",
        "    # 새로운 층\n",
        "    s1 = NAND(x, w=kwargs['w_nand'], b=kwargs['b_nand'])\n",
        "    s2 = OR(x, w=kwargs['w_or'], b=kwargs['b_or'])\n",
        "    \n",
        "    # 출력 층: s1 과 s2 를 새로운 입력으로 구성하여 전달\n",
        "    x = tf.concat([s1, s2], axis = 0)\n",
        "    y = AND(x = x, w=kwargs['w_and'], b=kwargs['b_and'])\n",
        "\n",
        "    return y\n",
        "\n",
        "# 입력 텐서와 타겟 텐서를 생성\n",
        "input_data = tf.constant([[0, 0], [1, 0], [0, 1], [1, 1]], dtype=tf.float32)\n",
        "target_data = tf.constant([0, 1, 1, 0], dtype=tf.float32)\n",
        "\n",
        "# 이전에 사용한 가중치를 dictionary 타입으로 만든다.\n",
        "kwargs = dict([('w_nand', w_nand), ('b_nand', b_nand), \n",
        "               ('w_or', w_or), ('b_or', b_or), \n",
        "               ('w_and', w_and), ('b_and', b_and)])\n",
        "\n",
        "# 테스트\n",
        "for x, y in zip(input_data, target_data):\n",
        "    pred = solution(x, **kwargs)\n",
        "    print(f\"predict: {pred.numpy()} | target: {y.numpy()}\")"
      ],
      "execution_count": null,
      "outputs": [
        {
          "output_type": "stream",
          "name": "stdout",
          "text": [
            "predict: [0.] | target: 0.0\n",
            "predict: [1.] | target: 1.0\n",
            "predict: [1.] | target: 1.0\n",
            "predict: [0.] | target: 0.0\n"
          ]
        }
      ]
    }
  ]
}