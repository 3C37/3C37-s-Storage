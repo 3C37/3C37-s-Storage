{
  "nbformat": 4,
  "nbformat_minor": 0,
  "metadata": {
    "colab": {
      "name": "절댓값 힙.ipynb",
      "provenance": [],
      "collapsed_sections": [],
      "authorship_tag": "ABX9TyPe2xw5xO7DkB1/Sb3Lwiir",
      "include_colab_link": true
    },
    "kernelspec": {
      "name": "python3",
      "display_name": "Python 3"
    },
    "language_info": {
      "name": "python"
    }
  },
  "cells": [
    {
      "cell_type": "markdown",
      "metadata": {
        "id": "view-in-github",
        "colab_type": "text"
      },
      "source": [
        "<a href=\"https://colab.research.google.com/github/3C37/3C37-s-Storage/blob/main/%EC%A0%88%EB%8C%93%EA%B0%92_%ED%9E%99.ipynb\" target=\"_parent\"><img src=\"https://colab.research.google.com/assets/colab-badge.svg\" alt=\"Open In Colab\"/></a>"
      ]
    },
    {
      "cell_type": "code",
      "execution_count": null,
      "metadata": {
        "id": "RJ-dqDV79S7b"
      },
      "outputs": [],
      "source": [
        "## https://www.acmicpc.net/problem/11286\n",
        "\n",
        "import heapq\n",
        "\n",
        "cy = int(input())\n",
        "li = []\n",
        "\n",
        "for cy in range(cy):\n",
        "  x = int(input())\n",
        "\n",
        "  if x != 0:\n",
        "    heapq.heappush(li, (abs(x), x))\n",
        "  else:\n",
        "    try:\n",
        "      print(heapq.heappop(li)[1])\n",
        "    except:\n",
        "      print(0)"
      ]
    }
  ]
}