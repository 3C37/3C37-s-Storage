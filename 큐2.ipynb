{
  "nbformat": 4,
  "nbformat_minor": 0,
  "metadata": {
    "colab": {
      "name": "큐2.ipynb",
      "provenance": [],
      "collapsed_sections": [],
      "authorship_tag": "ABX9TyP11hb4IObqMp/0P9uIebXN",
      "include_colab_link": true
    },
    "kernelspec": {
      "name": "python3",
      "display_name": "Python 3"
    },
    "language_info": {
      "name": "python"
    }
  },
  "cells": [
    {
      "cell_type": "markdown",
      "metadata": {
        "id": "view-in-github",
        "colab_type": "text"
      },
      "source": [
        "<a href=\"https://colab.research.google.com/github/3C37/3C37-s-Storage/blob/main/%ED%81%902.ipynb\" target=\"_parent\"><img src=\"https://colab.research.google.com/assets/colab-badge.svg\" alt=\"Open In Colab\"/></a>"
      ]
    },
    {
      "cell_type": "code",
      "execution_count": 2,
      "metadata": {
        "colab": {
          "base_uri": "https://localhost:8080/"
        },
        "id": "AUin-FuTznIB",
        "outputId": "7de675db-c0b0-4ed7-e69e-bf23032bbd14"
      },
      "outputs": [
        {
          "output_type": "stream",
          "name": "stdout",
          "text": [
            "15\n",
            "push 1\n",
            "push 2\n",
            "front\n",
            "1\n",
            "back\n",
            "2\n",
            "size\n",
            "2\n",
            "empty\n",
            "0\n",
            "pop\n",
            "1\n",
            "pop\n",
            "2\n",
            "pop\n",
            "-1\n",
            "size\n",
            "0\n",
            "empty\n",
            "1\n",
            "pop\n",
            "-1\n",
            "push 3\n",
            "empty\n",
            "0\n",
            "front\n",
            "3\n"
          ]
        }
      ],
      "source": [
        "## https://www.acmicpc.net/problem/18258\n",
        "\n",
        "from collections import deque\n",
        "\n",
        "queue = deque()\n",
        "\n",
        "def queue_func(x):\n",
        "  if x[0] == \"push\":\n",
        "    queue.append(x[1])\n",
        "  elif x[0] == \"pop\":\n",
        "    if len(queue) == 0:\n",
        "      print(-1)\n",
        "    else:\n",
        "      print(queue.popleft())\n",
        "  elif x[0] == \"size\":\n",
        "    print(len(queue))\n",
        "  elif x[0] == \"empty\":\n",
        "    if len(queue) == 0:\n",
        "      print(1)\n",
        "    else:\n",
        "      print(0)\n",
        "  elif x[0] == \"front\":\n",
        "    if len(queue) == 0:\n",
        "      print(-1)\n",
        "    else:\n",
        "      print(queue[0])\n",
        "  elif x[0] == \"back\":\n",
        "    if len(queue) == 0:\n",
        "      print(-1)\n",
        "    else:\n",
        "      print(queue[len(queue) - 1])\n",
        "\n",
        "for i in range(int(input())):\n",
        "  queue_func(list(input().split()))"
      ]
    }
  ]
}