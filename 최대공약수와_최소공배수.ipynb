{
  "nbformat": 4,
  "nbformat_minor": 0,
  "metadata": {
    "colab": {
      "name": "최대공약수와 최소공배수.ipynb",
      "provenance": [],
      "authorship_tag": "ABX9TyMR840L8gOIF5kA5bKj7BDk",
      "include_colab_link": true
    },
    "kernelspec": {
      "name": "python3",
      "display_name": "Python 3"
    },
    "language_info": {
      "name": "python"
    }
  },
  "cells": [
    {
      "cell_type": "markdown",
      "metadata": {
        "id": "view-in-github",
        "colab_type": "text"
      },
      "source": [
        "<a href=\"https://colab.research.google.com/github/3C37/3C37-s-Storage/blob/main/%EC%B5%9C%EB%8C%80%EA%B3%B5%EC%95%BD%EC%88%98%EC%99%80_%EC%B5%9C%EC%86%8C%EA%B3%B5%EB%B0%B0%EC%88%98.ipynb\" target=\"_parent\"><img src=\"https://colab.research.google.com/assets/colab-badge.svg\" alt=\"Open In Colab\"/></a>"
      ]
    },
    {
      "cell_type": "code",
      "execution_count": 4,
      "metadata": {
        "colab": {
          "base_uri": "https://localhost:8080/"
        },
        "id": "5wrKyupkhlAK",
        "outputId": "702bbb5f-e096-46fb-c6b3-6c77402a2f37"
      },
      "outputs": [
        {
          "output_type": "stream",
          "name": "stdout",
          "text": [
            "24 18\n",
            "6\n",
            "72\n"
          ]
        }
      ],
      "source": [
        "## https://www.acmicpc.net/problem/2609\n",
        "\n",
        "A, B = map(int, input().split())\n",
        "\n",
        "a = max(A, B)\n",
        "b = min(A, B)\n",
        "\n",
        "while a%b != 0:\n",
        "  a, b = b, a%b\n",
        "\n",
        "print(b)\n",
        "print(A*B//b)"
      ]
    }
  ]
}