{
  "nbformat": 4,
  "nbformat_minor": 0,
  "metadata": {
    "colab": {
      "name": "문자열 반복.ipynb",
      "provenance": [],
      "collapsed_sections": [],
      "authorship_tag": "ABX9TyPol+7S0Hc8jGZRovm/WxPB",
      "include_colab_link": true
    },
    "kernelspec": {
      "name": "python3",
      "display_name": "Python 3"
    },
    "language_info": {
      "name": "python"
    }
  },
  "cells": [
    {
      "cell_type": "markdown",
      "metadata": {
        "id": "view-in-github",
        "colab_type": "text"
      },
      "source": [
        "<a href=\"https://colab.research.google.com/github/3C37/3C37-s-Storage/blob/main/%EB%AC%B8%EC%9E%90%EC%97%B4_%EB%B0%98%EB%B3%B5.ipynb\" target=\"_parent\"><img src=\"https://colab.research.google.com/assets/colab-badge.svg\" alt=\"Open In Colab\"/></a>"
      ]
    },
    {
      "cell_type": "code",
      "execution_count": 6,
      "metadata": {
        "colab": {
          "base_uri": "https://localhost:8080/"
        },
        "id": "moLV4yFeP0xC",
        "outputId": "bca446f6-f768-496c-b401-f2d2e8f19b2c"
      },
      "outputs": [
        {
          "output_type": "stream",
          "name": "stdout",
          "text": [
            "2\n",
            "3 ABC\n",
            "AAABBBCCC\n",
            "5 /HTP\n",
            "/////HHHHHTTTTTPPPPP\n"
          ]
        }
      ],
      "source": [
        "## https://www.acmicpc.net/problem/2675\n",
        "\n",
        "cy = int(input())\n",
        "\n",
        "def repeat(x, y):\n",
        "  newword = []\n",
        "  for i in y:\n",
        "    for j in range(x):\n",
        "      newword.append(i)\n",
        "  print(\"\".join(newword))\n",
        "\n",
        "for i in range(cy):\n",
        "  x, y = input().split()\n",
        "  repeat(int(x), y)"
      ]
    }
  ]
}