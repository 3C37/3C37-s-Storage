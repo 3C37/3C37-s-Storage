{
  "nbformat": 4,
  "nbformat_minor": 0,
  "metadata": {
    "colab": {
      "name": "괄호의 값.ipynb",
      "provenance": [],
      "collapsed_sections": [],
      "authorship_tag": "ABX9TyN6DAM1RN5jAKMswr7FcsrY",
      "include_colab_link": true
    },
    "kernelspec": {
      "name": "python3",
      "display_name": "Python 3"
    },
    "language_info": {
      "name": "python"
    }
  },
  "cells": [
    {
      "cell_type": "markdown",
      "metadata": {
        "id": "view-in-github",
        "colab_type": "text"
      },
      "source": [
        "<a href=\"https://colab.research.google.com/github/3C37/3C37-s-Storage/blob/main/%EA%B4%84%ED%98%B8%EC%9D%98_%EA%B0%92.ipynb\" target=\"_parent\"><img src=\"https://colab.research.google.com/assets/colab-badge.svg\" alt=\"Open In Colab\"/></a>"
      ]
    },
    {
      "cell_type": "code",
      "execution_count": null,
      "metadata": {
        "colab": {
          "base_uri": "https://localhost:8080/"
        },
        "id": "US8R4BJxX0CM",
        "outputId": "9842aecb-c5ea-4382-913d-427dad3a83ca"
      },
      "outputs": [
        {
          "output_type": "stream",
          "name": "stdout",
          "text": [
            "(()[[]])([])\n",
            "28\n"
          ]
        }
      ],
      "source": [
        "## https://www.acmicpc.net/problem/2504\n",
        "\n",
        "A = list(input())\n",
        "\n",
        "storage = []\n",
        "answer = 0\n",
        "tmp = 1\n",
        "\n",
        "for i in range(len(A)):\n",
        "  if A[i] == \"(\":\n",
        "    storage.append(A[i])\n",
        "    tmp *= 2\n",
        "  elif A[i] == \"[\":\n",
        "    storage.append(A[i])\n",
        "    tmp *= 3\n",
        "  elif A[i] == \")\":\n",
        "    if not storage or storage[-1] == \"[\":\n",
        "      answer = 0\n",
        "      break\n",
        "    if A[i - 1] == \"(\":\n",
        "      answer += tmp\n",
        "    storage.pop()\n",
        "    tmp //= 2\n",
        "  else:\n",
        "    if not storage or storage[-1] == \"(\":\n",
        "      answer = 0\n",
        "      break\n",
        "    if A[i - 1] == \"[\":\n",
        "      answer += tmp\n",
        "    storage.pop()\n",
        "    tmp //= 3\n",
        "    \n",
        "if storage:\n",
        "  print(0)\n",
        "else:\n",
        "  print(answer)"
      ]
    }
  ]
}