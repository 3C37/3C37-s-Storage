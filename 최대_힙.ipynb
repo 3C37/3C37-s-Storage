{
  "nbformat": 4,
  "nbformat_minor": 0,
  "metadata": {
    "colab": {
      "name": "최대 힙.ipynb",
      "provenance": [],
      "collapsed_sections": [],
      "authorship_tag": "ABX9TyObxIU/ahYidR7vsYGW78uz",
      "include_colab_link": true
    },
    "kernelspec": {
      "name": "python3",
      "display_name": "Python 3"
    },
    "language_info": {
      "name": "python"
    }
  },
  "cells": [
    {
      "cell_type": "markdown",
      "metadata": {
        "id": "view-in-github",
        "colab_type": "text"
      },
      "source": [
        "<a href=\"https://colab.research.google.com/github/3C37/3C37-s-Storage/blob/main/%EC%B5%9C%EB%8C%80_%ED%9E%99.ipynb\" target=\"_parent\"><img src=\"https://colab.research.google.com/assets/colab-badge.svg\" alt=\"Open In Colab\"/></a>"
      ]
    },
    {
      "cell_type": "code",
      "execution_count": 9,
      "metadata": {
        "colab": {
          "base_uri": "https://localhost:8080/"
        },
        "id": "qtLUxxZGbWYK",
        "outputId": "1989b0b3-ed20-4c6b-8f67-ee16f50b0d75"
      },
      "outputs": [
        {
          "output_type": "stream",
          "name": "stdout",
          "text": [
            "13\n",
            "0\n",
            "0\n",
            "1\n",
            "2\n",
            "0\n",
            "2\n",
            "0\n",
            "1\n",
            "1\n",
            "2\n",
            "3\n",
            "0\n",
            "3\n",
            "0\n",
            "2\n",
            "0\n",
            "1\n",
            "0\n",
            "0\n",
            "0\n",
            "0\n"
          ]
        }
      ],
      "source": [
        "## https://www.acmicpc.net/problem/11279\n",
        "\n",
        "import heapq\n",
        "\n",
        "cy = int(input())\n",
        "lst = []\n",
        "\n",
        "for cy in range(cy):\n",
        "  get_num = int(input())\n",
        "\n",
        "  if get_num > 0:\n",
        "    heapq.heappush(lst, (-get_num, get_num))\n",
        "  else:\n",
        "    if len(lst) != 0:\n",
        "      print(heapq.heappop(lst)[1])\n",
        "    else:\n",
        "      print(\"0\")"
      ]
    }
  ]
}