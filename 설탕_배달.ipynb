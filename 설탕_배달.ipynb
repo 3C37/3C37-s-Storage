{
  "nbformat": 4,
  "nbformat_minor": 0,
  "metadata": {
    "colab": {
      "name": "설탕 배달.ipynb",
      "provenance": [],
      "collapsed_sections": [],
      "authorship_tag": "ABX9TyNtcUKg6j8QoH65/2a6jQVp",
      "include_colab_link": true
    },
    "kernelspec": {
      "name": "python3",
      "display_name": "Python 3"
    },
    "language_info": {
      "name": "python"
    }
  },
  "cells": [
    {
      "cell_type": "markdown",
      "metadata": {
        "id": "view-in-github",
        "colab_type": "text"
      },
      "source": [
        "<a href=\"https://colab.research.google.com/github/3C37/3C37-s-Storage/blob/main/%EC%84%A4%ED%83%95_%EB%B0%B0%EB%8B%AC.ipynb\" target=\"_parent\"><img src=\"https://colab.research.google.com/assets/colab-badge.svg\" alt=\"Open In Colab\"/></a>"
      ]
    },
    {
      "cell_type": "code",
      "execution_count": 24,
      "metadata": {
        "colab": {
          "base_uri": "https://localhost:8080/"
        },
        "id": "zgWBVG-NgW95",
        "outputId": "e54d797b-95c8-45c7-8e81-a422807f43bd"
      },
      "outputs": [
        {
          "output_type": "stream",
          "name": "stdout",
          "text": [
            "11\n",
            "3\n"
          ]
        }
      ],
      "source": [
        "## https://www.acmicpc.net/problem/2839\n",
        "\n",
        "N = int(input())\n",
        "\n",
        "A, B = 0, 0\n",
        "\n",
        "while N%5 != 0 and N - 3 >= 0:\n",
        "  B += 1\n",
        "  N -= 3\n",
        "\n",
        "while N - 5 >= 0:\n",
        "  A += 1\n",
        "  N -= 5\n",
        "\n",
        "if N == 0:\n",
        "  print(A + B)\n",
        "else:\n",
        "  print(-1)"
      ]
    }
  ]
}