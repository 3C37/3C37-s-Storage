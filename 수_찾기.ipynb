{
  "nbformat": 4,
  "nbformat_minor": 0,
  "metadata": {
    "colab": {
      "name": "수 찾기.ipynb",
      "provenance": [],
      "collapsed_sections": [],
      "authorship_tag": "ABX9TyNhAiieMvBT/xpVVwkzPtZz",
      "include_colab_link": true
    },
    "kernelspec": {
      "name": "python3",
      "display_name": "Python 3"
    },
    "language_info": {
      "name": "python"
    }
  },
  "cells": [
    {
      "cell_type": "markdown",
      "metadata": {
        "id": "view-in-github",
        "colab_type": "text"
      },
      "source": [
        "<a href=\"https://colab.research.google.com/github/3C37/3C37-s-Storage/blob/main/%EC%88%98_%EC%B0%BE%EA%B8%B0.ipynb\" target=\"_parent\"><img src=\"https://colab.research.google.com/assets/colab-badge.svg\" alt=\"Open In Colab\"/></a>"
      ]
    },
    {
      "cell_type": "code",
      "execution_count": 8,
      "metadata": {
        "colab": {
          "base_uri": "https://localhost:8080/"
        },
        "id": "hV4RRTjZwLuD",
        "outputId": "8d390369-df4b-415a-c19f-39308d67240a"
      },
      "outputs": [
        {
          "output_type": "stream",
          "name": "stdout",
          "text": [
            "5\n",
            "4 1 5 2 3\n",
            "5\n",
            "1 3 7 9 5\n",
            "1\n",
            "1\n",
            "0\n",
            "0\n",
            "1\n"
          ]
        }
      ],
      "source": [
        "## https://www.acmicpc.net/problem/1920\n",
        "\n",
        "n = int(input())\n",
        "\n",
        "nums = list(input().split())\n",
        "nums.sort()\n",
        "\n",
        "m = int(input())\n",
        "\n",
        "nums2 = list(input().split())\n",
        "\n",
        "def bin_srch(x):\n",
        "  left = 0\n",
        "  right = n - 1\n",
        "\n",
        "  while left <= right:\n",
        "    mid = (left + right)//2\n",
        "    if nums[mid] == x:\n",
        "      return True\n",
        "    \n",
        "    if x < nums[mid]:\n",
        "      right = mid - 1\n",
        "    elif x > nums[mid]:\n",
        "      left = mid + 1\n",
        "  \n",
        "for i in nums2:\n",
        "  if bin_srch(i):\n",
        "    print(1)\n",
        "  else:\n",
        "    print(0)"
      ]
    }
  ]
}