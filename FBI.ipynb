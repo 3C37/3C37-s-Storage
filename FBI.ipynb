{
  "nbformat": 4,
  "nbformat_minor": 0,
  "metadata": {
    "colab": {
      "name": "FBI.ipynb",
      "provenance": [],
      "collapsed_sections": [],
      "authorship_tag": "ABX9TyOgCnhdtChrbA+gCheRPzmV",
      "include_colab_link": true
    },
    "kernelspec": {
      "name": "python3",
      "display_name": "Python 3"
    },
    "language_info": {
      "name": "python"
    }
  },
  "cells": [
    {
      "cell_type": "markdown",
      "metadata": {
        "id": "view-in-github",
        "colab_type": "text"
      },
      "source": [
        "<a href=\"https://colab.research.google.com/github/3C37/3C37-s-Storage/blob/main/FBI.ipynb\" target=\"_parent\"><img src=\"https://colab.research.google.com/assets/colab-badge.svg\" alt=\"Open In Colab\"/></a>"
      ]
    },
    {
      "cell_type": "code",
      "source": [
        "## https://www.acmicpc.net/problem/2857\n",
        "\n",
        "FBIS = []\n",
        "\n",
        "for i in range(5):\n",
        "  name = input()\n",
        "  if \"FBI\" in name:\n",
        "    FBIS.append(i + 1)\n",
        "\n",
        "if FBIS:\n",
        "  for j in FBIS:\n",
        "    print(j)\n",
        "else:\n",
        "  print(\"HE GOT AWAY!\")"
      ],
      "metadata": {
        "id": "x0l06wM9SjdK",
        "colab": {
          "base_uri": "https://localhost:8080/"
        },
        "outputId": "3665efc3-5a6c-448d-9bcd-e03f911c4d62"
      },
      "execution_count": 3,
      "outputs": [
        {
          "output_type": "stream",
          "name": "stdout",
          "text": [
            "47-FBI\n",
            "BOND-007\n",
            "RF-FBI18\n",
            "MARICA-13\n",
            "13A-FBILL\n",
            "1\n",
            "3\n",
            "5\n"
          ]
        }
      ]
    }
  ]
}