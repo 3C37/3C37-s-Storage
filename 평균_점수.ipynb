{
  "nbformat": 4,
  "nbformat_minor": 0,
  "metadata": {
    "colab": {
      "name": "평균 점수.ipynb",
      "provenance": [],
      "collapsed_sections": [],
      "authorship_tag": "ABX9TyN46ljJlCWe0CjRaY/6BHHu",
      "include_colab_link": true
    },
    "kernelspec": {
      "name": "python3",
      "display_name": "Python 3"
    },
    "language_info": {
      "name": "python"
    }
  },
  "cells": [
    {
      "cell_type": "markdown",
      "metadata": {
        "id": "view-in-github",
        "colab_type": "text"
      },
      "source": [
        "<a href=\"https://colab.research.google.com/github/3C37/3C37-s-Storage/blob/main/%ED%8F%89%EA%B7%A0_%EC%A0%90%EC%88%98.ipynb\" target=\"_parent\"><img src=\"https://colab.research.google.com/assets/colab-badge.svg\" alt=\"Open In Colab\"/></a>"
      ]
    },
    {
      "cell_type": "code",
      "execution_count": 3,
      "metadata": {
        "colab": {
          "base_uri": "https://localhost:8080/"
        },
        "id": "OlEuruimfmeW",
        "outputId": "f6ffbb36-b48c-4dc7-f94c-7aa9930e1870"
      },
      "outputs": [
        {
          "output_type": "stream",
          "name": "stdout",
          "text": [
            "10\n",
            "65\n",
            "100\n",
            "30\n",
            "95\n",
            "68\n"
          ]
        }
      ],
      "source": [
        "## https://www.acmicpc.net/problem/10039\n",
        "\n",
        "scores = []\n",
        "\n",
        "for i in range(5):\n",
        "  score = int(input())\n",
        "  if score >= 40:\n",
        "    scores.append(score)\n",
        "  else:\n",
        "    scores.append(40)\n",
        "\n",
        "result = 0\n",
        "\n",
        "for i in scores:\n",
        "  result += i\n",
        "\n",
        "print(result//5)"
      ]
    }
  ]
}