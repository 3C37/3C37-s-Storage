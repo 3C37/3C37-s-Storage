{
  "nbformat": 4,
  "nbformat_minor": 0,
  "metadata": {
    "colab": {
      "name": "칠무해.ipynb",
      "provenance": [],
      "collapsed_sections": [],
      "authorship_tag": "ABX9TyNkGPufgRVJTeMXkUXW1eL0",
      "include_colab_link": true
    },
    "kernelspec": {
      "name": "python3",
      "display_name": "Python 3"
    },
    "language_info": {
      "name": "python"
    }
  },
  "cells": [
    {
      "cell_type": "markdown",
      "metadata": {
        "id": "view-in-github",
        "colab_type": "text"
      },
      "source": [
        "<a href=\"https://colab.research.google.com/github/3C37/3C37-s-Storage/blob/main/%EC%B9%A0%EB%AC%B4%ED%95%B4.ipynb\" target=\"_parent\"><img src=\"https://colab.research.google.com/assets/colab-badge.svg\" alt=\"Open In Colab\"/></a>"
      ]
    },
    {
      "cell_type": "code",
      "execution_count": 11,
      "metadata": {
        "colab": {
          "base_uri": "https://localhost:8080/"
        },
        "id": "yZc6UfeKGidc",
        "outputId": "11596289-ac7b-4c48-d513-bda47f70e996"
      },
      "outputs": [
        {
          "output_type": "stream",
          "name": "stdout",
          "text": [
            "8\n",
            "20.000\n",
            "70.000\n",
            "50.000\n",
            "30.000\n",
            "70.000\n",
            "30.000\n",
            "60.000\n",
            "70.000\n",
            "20.000\n",
            "30.000\n",
            "30.000\n",
            "50.000\n",
            "60.000\n",
            "70.000\n",
            "70.000\n"
          ]
        }
      ],
      "source": [
        "## https://www.acmicpc.net/problem/14729\n",
        "\n",
        "import heapq\n",
        "\n",
        "N = int(input())\n",
        "\n",
        "scores = []\n",
        "\n",
        "for i in range(N):\n",
        "  heapq.heappush(scores, float(input()))\n",
        "\n",
        "for i in range(7):\n",
        "  print(\"%.3f\"%heapq.heappop(scores))"
      ]
    }
  ]
}