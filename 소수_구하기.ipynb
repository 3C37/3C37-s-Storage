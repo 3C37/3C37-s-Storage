{
  "nbformat": 4,
  "nbformat_minor": 0,
  "metadata": {
    "colab": {
      "name": "소수 구하기.ipynb",
      "provenance": [],
      "collapsed_sections": [],
      "authorship_tag": "ABX9TyPf/hEGbCHXs/VMcpfYLbxk",
      "include_colab_link": true
    },
    "kernelspec": {
      "name": "python3",
      "display_name": "Python 3"
    },
    "language_info": {
      "name": "python"
    }
  },
  "cells": [
    {
      "cell_type": "markdown",
      "metadata": {
        "id": "view-in-github",
        "colab_type": "text"
      },
      "source": [
        "<a href=\"https://colab.research.google.com/github/3C37/3C37-s-Storage/blob/main/%EC%86%8C%EC%88%98_%EA%B5%AC%ED%95%98%EA%B8%B0.ipynb\" target=\"_parent\"><img src=\"https://colab.research.google.com/assets/colab-badge.svg\" alt=\"Open In Colab\"/></a>"
      ]
    },
    {
      "cell_type": "code",
      "execution_count": 23,
      "metadata": {
        "colab": {
          "base_uri": "https://localhost:8080/"
        },
        "id": "ip4L22szIeYw",
        "outputId": "ff4df96b-75ce-4e01-939b-e7523e13cb66"
      },
      "outputs": [
        {
          "output_type": "stream",
          "name": "stdout",
          "text": [
            "3 16\n",
            "3\n",
            "5\n",
            "7\n",
            "11\n",
            "13\n"
          ]
        }
      ],
      "source": [
        "## https://www.acmicpc.net/problem/1929\n",
        "import math\n",
        "\n",
        "A, B = map(int, input().split())\n",
        "\n",
        "def prime_nums(n):\n",
        "  arr = [True] * (n + 1)\n",
        "  arr[0] = False\n",
        "  arr[1] = False\n",
        "\n",
        "  for i in range(2, int(math.sqrt(n)) + 1):\n",
        "    if arr[i] == True:\n",
        "      j = 2\n",
        "\n",
        "      while (i * j) <= n:\n",
        "        arr[i * j] = False\n",
        "        j += 1\n",
        "\n",
        "  return arr\n",
        "\n",
        "arr = prime_nums(B)\n",
        "\n",
        "for i in range(A):\n",
        "  arr[i] = False\n",
        "\n",
        "for i in range(len(arr)):\n",
        "  if arr[i] == True:\n",
        "    print(i)"
      ]
    }
  ]
}