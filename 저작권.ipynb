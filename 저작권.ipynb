{
  "nbformat": 4,
  "nbformat_minor": 0,
  "metadata": {
    "colab": {
      "name": "저작권.ipynb",
      "provenance": [],
      "collapsed_sections": [],
      "authorship_tag": "ABX9TyNfu09NJ0MOOKyvvgsDA4Eg",
      "include_colab_link": true
    },
    "kernelspec": {
      "name": "python3",
      "display_name": "Python 3"
    },
    "language_info": {
      "name": "python"
    }
  },
  "cells": [
    {
      "cell_type": "markdown",
      "metadata": {
        "id": "view-in-github",
        "colab_type": "text"
      },
      "source": [
        "<a href=\"https://colab.research.google.com/github/3C37/3C37-s-Storage/blob/main/%EC%A0%80%EC%9E%91%EA%B6%8C.ipynb\" target=\"_parent\"><img src=\"https://colab.research.google.com/assets/colab-badge.svg\" alt=\"Open In Colab\"/></a>"
      ]
    },
    {
      "cell_type": "code",
      "execution_count": 2,
      "metadata": {
        "id": "QX_3eWGKPCPc",
        "colab": {
          "base_uri": "https://localhost:8080/"
        },
        "outputId": "b620ee47-2dd1-4c8d-a910-ae44d2248030"
      },
      "outputs": [
        {
          "output_type": "stream",
          "name": "stdout",
          "text": [
            "38 24\n",
            "874\n"
          ]
        }
      ],
      "source": [
        "## https://www.acmicpc.net/problem/2914\n",
        "\n",
        "A, I = map(int, input().split())\n",
        "\n",
        "print(A * (I - 1) + 1)"
      ]
    }
  ]
}