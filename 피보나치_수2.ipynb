{
  "nbformat": 4,
  "nbformat_minor": 0,
  "metadata": {
    "colab": {
      "name": "피보나치 수2.ipynb",
      "provenance": [],
      "collapsed_sections": [],
      "authorship_tag": "ABX9TyNJgERvGEoIodvhduUWkVpL",
      "include_colab_link": true
    },
    "kernelspec": {
      "name": "python3",
      "display_name": "Python 3"
    },
    "language_info": {
      "name": "python"
    }
  },
  "cells": [
    {
      "cell_type": "markdown",
      "metadata": {
        "id": "view-in-github",
        "colab_type": "text"
      },
      "source": [
        "<a href=\"https://colab.research.google.com/github/3C37/3C37-s-Storage/blob/main/%ED%94%BC%EB%B3%B4%EB%82%98%EC%B9%98_%EC%88%982.ipynb\" target=\"_parent\"><img src=\"https://colab.research.google.com/assets/colab-badge.svg\" alt=\"Open In Colab\"/></a>"
      ]
    },
    {
      "cell_type": "code",
      "execution_count": 21,
      "metadata": {
        "colab": {
          "base_uri": "https://localhost:8080/"
        },
        "id": "XDxMiU35qTsI",
        "outputId": "e20e7e95-21fb-4599-deaa-b77d2753fc60"
      },
      "outputs": [
        {
          "output_type": "stream",
          "name": "stdout",
          "text": [
            "2\n",
            "1\n"
          ]
        }
      ],
      "source": [
        "## https://www.acmicpc.net/problem/2748\n",
        "\n",
        "n = int(input())\n",
        "\n",
        "def piv(n):\n",
        "  a = 0\n",
        "  b = 1\n",
        "  for i in range(n - 1):\n",
        "    a, b = b, a + b\n",
        "  print(b)\n",
        "\n",
        "piv(n)"
      ]
    }
  ]
}