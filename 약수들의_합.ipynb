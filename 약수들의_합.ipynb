{
  "nbformat": 4,
  "nbformat_minor": 0,
  "metadata": {
    "colab": {
      "name": "약수들의 합.ipynb",
      "provenance": [],
      "collapsed_sections": [],
      "authorship_tag": "ABX9TyMHvvJMh83XQ7mI2HdikZZy",
      "include_colab_link": true
    },
    "kernelspec": {
      "name": "python3",
      "display_name": "Python 3"
    },
    "language_info": {
      "name": "python"
    }
  },
  "cells": [
    {
      "cell_type": "markdown",
      "metadata": {
        "id": "view-in-github",
        "colab_type": "text"
      },
      "source": [
        "<a href=\"https://colab.research.google.com/github/3C37/3C37-s-Storage/blob/main/%EC%95%BD%EC%88%98%EB%93%A4%EC%9D%98_%ED%95%A9.ipynb\" target=\"_parent\"><img src=\"https://colab.research.google.com/assets/colab-badge.svg\" alt=\"Open In Colab\"/></a>"
      ]
    },
    {
      "cell_type": "code",
      "execution_count": 10,
      "metadata": {
        "colab": {
          "base_uri": "https://localhost:8080/"
        },
        "id": "fcTyAwR8pLjl",
        "outputId": "dd6a170b-839d-4ac0-c296-15d220d44e47"
      },
      "outputs": [
        {
          "name": "stdout",
          "output_type": "stream",
          "text": [
            "6\n",
            "6 = 1 + 2 + 3\n",
            "12\n",
            "12 is NOT perfect.\n",
            "28\n",
            "28 = 1 + 2 + 4 + 7 + 14\n",
            "-1\n"
          ]
        }
      ],
      "source": [
        "## https://www.acmicpc.net/problem/9506\n",
        "\n",
        "while True:\n",
        "  n = int(input())\n",
        "  if n == -1:\n",
        "    break\n",
        "  else:\n",
        "    nums = []\n",
        "\n",
        "    for i in range(1, n):\n",
        "      if n % i == 0:\n",
        "        nums.append(i)\n",
        "\n",
        "    tmp = 0\n",
        "\n",
        "    for i in nums:\n",
        "      tmp += i\n",
        "    \n",
        "    if tmp == n:\n",
        "      output = str(n) + \" = 1\"\n",
        "      for i in range(1, len(nums)):\n",
        "        output += \" + \"\n",
        "        output += str(nums[i])\n",
        "      print(output)\n",
        "    else:\n",
        "      print(\"%s is NOT perfect.\" %(n))"
      ]
    }
  ]
}