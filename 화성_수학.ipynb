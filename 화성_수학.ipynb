{
  "nbformat": 4,
  "nbformat_minor": 0,
  "metadata": {
    "colab": {
      "name": "화성 수학.ipynb",
      "provenance": [],
      "collapsed_sections": [],
      "authorship_tag": "ABX9TyPznYPli3nw3dBLSprUgKgW",
      "include_colab_link": true
    },
    "kernelspec": {
      "name": "python3",
      "display_name": "Python 3"
    },
    "language_info": {
      "name": "python"
    }
  },
  "cells": [
    {
      "cell_type": "markdown",
      "metadata": {
        "id": "view-in-github",
        "colab_type": "text"
      },
      "source": [
        "<a href=\"https://colab.research.google.com/github/3C37/3C37-s-Storage/blob/main/%ED%99%94%EC%84%B1_%EC%88%98%ED%95%99.ipynb\" target=\"_parent\"><img src=\"https://colab.research.google.com/assets/colab-badge.svg\" alt=\"Open In Colab\"/></a>"
      ]
    },
    {
      "cell_type": "code",
      "execution_count": 12,
      "metadata": {
        "colab": {
          "base_uri": "https://localhost:8080/"
        },
        "id": "UJh1N2G-Xu5i",
        "outputId": "5219c259-3cfe-4b7c-ffac-c7d5daa9f479"
      },
      "outputs": [
        {
          "output_type": "stream",
          "name": "stdout",
          "text": [
            "3\n",
            "3 @ %\n",
            "14.00\n",
            "10.4 # % @\n",
            "25.20\n",
            "8 #\n",
            "1.00\n"
          ]
        }
      ],
      "source": [
        "## https://www.acmicpc.net/problem/5355\n",
        "\n",
        "def calc(a, x):\n",
        "  if x == \"@\":\n",
        "    a *= 3\n",
        "  elif x == \"%\":\n",
        "    a += 5\n",
        "  elif x == \"#\":\n",
        "    a -= 7\n",
        "  return a\n",
        "\n",
        "T = int(input())\n",
        "\n",
        "for i in range(T):\n",
        "  quiz = list(input().split())\n",
        "  ans = float(quiz[0])\n",
        "  for j in range(1, len(quiz)):\n",
        "    ans = calc(ans, quiz[j])\n",
        "  print(\"%.2f\" %(ans))"
      ]
    }
  ]
}