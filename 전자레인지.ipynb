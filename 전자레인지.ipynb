{
  "nbformat": 4,
  "nbformat_minor": 0,
  "metadata": {
    "colab": {
      "name": "전자레인지.ipynb",
      "provenance": [],
      "collapsed_sections": [],
      "authorship_tag": "ABX9TyPT/W0fENDHulS+ej2GjXp/",
      "include_colab_link": true
    },
    "kernelspec": {
      "name": "python3",
      "display_name": "Python 3"
    },
    "language_info": {
      "name": "python"
    }
  },
  "cells": [
    {
      "cell_type": "markdown",
      "metadata": {
        "id": "view-in-github",
        "colab_type": "text"
      },
      "source": [
        "<a href=\"https://colab.research.google.com/github/3C37/3C37-s-Storage/blob/main/%EC%A0%84%EC%9E%90%EB%A0%88%EC%9D%B8%EC%A7%80.ipynb\" target=\"_parent\"><img src=\"https://colab.research.google.com/assets/colab-badge.svg\" alt=\"Open In Colab\"/></a>"
      ]
    },
    {
      "cell_type": "code",
      "execution_count": 4,
      "metadata": {
        "colab": {
          "base_uri": "https://localhost:8080/"
        },
        "id": "w3hOw92472-3",
        "outputId": "ab7043b5-263a-43c0-d5d0-d3ab327f6921"
      },
      "outputs": [
        {
          "output_type": "stream",
          "name": "stdout",
          "text": [
            "189\n",
            "-1\n"
          ]
        }
      ],
      "source": [
        "## https://www.acmicpc.net/problem/10162\n",
        "\n",
        "A, B, C = 300, 60, 10\n",
        "\n",
        "T = int(input())\n",
        "\n",
        "A = T // 300\n",
        "T = T % 300\n",
        "\n",
        "B = T // 60\n",
        "T = T % 60\n",
        "\n",
        "C = T // 10\n",
        "\n",
        "if T % 10 != 0:\n",
        "  print(-1)\n",
        "else:\n",
        "  print(A, B, C)"
      ]
    }
  ]
}