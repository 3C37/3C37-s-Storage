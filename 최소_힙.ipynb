{
  "nbformat": 4,
  "nbformat_minor": 0,
  "metadata": {
    "colab": {
      "name": "최소 힙.ipynb",
      "provenance": [],
      "collapsed_sections": [],
      "authorship_tag": "ABX9TyO/ZxVSwXxJjsRa1LP2JUHt",
      "include_colab_link": true
    },
    "kernelspec": {
      "name": "python3",
      "display_name": "Python 3"
    },
    "language_info": {
      "name": "python"
    }
  },
  "cells": [
    {
      "cell_type": "markdown",
      "metadata": {
        "id": "view-in-github",
        "colab_type": "text"
      },
      "source": [
        "<a href=\"https://colab.research.google.com/github/3C37/3C37-s-Storage/blob/main/%EC%B5%9C%EC%86%8C_%ED%9E%99.ipynb\" target=\"_parent\"><img src=\"https://colab.research.google.com/assets/colab-badge.svg\" alt=\"Open In Colab\"/></a>"
      ]
    },
    {
      "cell_type": "code",
      "execution_count": 1,
      "metadata": {
        "colab": {
          "base_uri": "https://localhost:8080/"
        },
        "id": "1DOyiDDTtnwa",
        "outputId": "9ac80040-2ec1-40e4-f66d-f2fcda9b9799"
      },
      "outputs": [
        {
          "name": "stdout",
          "output_type": "stream",
          "text": [
            "9\n",
            "0\n",
            "0\n",
            "12345678\n",
            "1\n",
            "2\n",
            "0\n",
            "1\n",
            "0\n",
            "2\n",
            "0\n",
            "12345678\n",
            "0\n",
            "0\n",
            "32\n"
          ]
        }
      ],
      "source": [
        "## https://www.acmicpc.net/problem/1927\n",
        "\n",
        "import heapq\n",
        "\n",
        "cy = int(input())\n",
        "\n",
        "lst = []\n",
        "\n",
        "for cy in range(cy):\n",
        "  num_in = int(input())\n",
        "\n",
        "  try:\n",
        "    if num_in > 0:\n",
        "      heapq.heappush(lst, num_in)\n",
        "    else:\n",
        "      print(heapq.heappop(lst))\n",
        "  except:\n",
        "    print(0)"
      ]
    }
  ]
}