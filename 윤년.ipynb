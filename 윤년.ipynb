{
  "nbformat": 4,
  "nbformat_minor": 0,
  "metadata": {
    "colab": {
      "name": "윤년.ipynb",
      "provenance": [],
      "collapsed_sections": [],
      "authorship_tag": "ABX9TyOotkV9biMuhVkz+enMEQ2U",
      "include_colab_link": true
    },
    "kernelspec": {
      "name": "python3",
      "display_name": "Python 3"
    },
    "language_info": {
      "name": "python"
    }
  },
  "cells": [
    {
      "cell_type": "markdown",
      "metadata": {
        "id": "view-in-github",
        "colab_type": "text"
      },
      "source": [
        "<a href=\"https://colab.research.google.com/github/3C37/3C37-s-Storage/blob/main/%EC%9C%A4%EB%85%84.ipynb\" target=\"_parent\"><img src=\"https://colab.research.google.com/assets/colab-badge.svg\" alt=\"Open In Colab\"/></a>"
      ]
    },
    {
      "cell_type": "code",
      "execution_count": 3,
      "metadata": {
        "colab": {
          "base_uri": "https://localhost:8080/"
        },
        "id": "PVC5WPF67oGX",
        "outputId": "5b2b251d-7391-4ab7-f0a2-9251b49e75ec"
      },
      "outputs": [
        {
          "output_type": "stream",
          "name": "stdout",
          "text": [
            "1999\n",
            "0\n"
          ]
        }
      ],
      "source": [
        "## https://www.acmicpc.net/problem/2753\n",
        "\n",
        "Y = int(input())\n",
        "\n",
        "if Y%4 == 0 and (Y%100 != 0 or Y%400 == 0):\n",
        "  print(1)\n",
        "else:\n",
        "  print(0)"
      ]
    }
  ]
}