{
  "nbformat": 4,
  "nbformat_minor": 0,
  "metadata": {
    "colab": {
      "name": "LCM.ipynb",
      "provenance": [],
      "collapsed_sections": [],
      "authorship_tag": "ABX9TyN3ORTEVdnvqqr2bOQagpGA",
      "include_colab_link": true
    },
    "kernelspec": {
      "name": "python3",
      "display_name": "Python 3"
    },
    "language_info": {
      "name": "python"
    }
  },
  "cells": [
    {
      "cell_type": "markdown",
      "metadata": {
        "id": "view-in-github",
        "colab_type": "text"
      },
      "source": [
        "<a href=\"https://colab.research.google.com/github/3C37/3C37-s-Storage/blob/main/LCM.ipynb\" target=\"_parent\"><img src=\"https://colab.research.google.com/assets/colab-badge.svg\" alt=\"Open In Colab\"/></a>"
      ]
    },
    {
      "cell_type": "code",
      "execution_count": 3,
      "metadata": {
        "colab": {
          "base_uri": "https://localhost:8080/"
        },
        "id": "GFCTavJJAo_H",
        "outputId": "28cf03a8-f569-450c-f316-98d9df8c1d03"
      },
      "outputs": [
        {
          "output_type": "stream",
          "name": "stdout",
          "text": [
            "3\n",
            "15 21\n",
            "105\n",
            "33 22\n",
            "66\n",
            "9 10\n",
            "90\n"
          ]
        }
      ],
      "source": [
        "## https://www.acmicpc.net/problem/5347\n",
        "\n",
        "cy = int(input())\n",
        "\n",
        "def LCM(a, b):\n",
        "  A, B = max(a, b), min(a, b)\n",
        "  while A%B != 0:\n",
        "    A, B = B, A%B\n",
        "  return a*b//B\n",
        "\n",
        "for i in range(cy):\n",
        "  a, b = map(int, input().split())\n",
        "  print(LCM(a,b))"
      ]
    }
  ]
}