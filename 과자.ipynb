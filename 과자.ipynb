{
  "nbformat": 4,
  "nbformat_minor": 0,
  "metadata": {
    "colab": {
      "name": "과자.ipynb",
      "provenance": [],
      "collapsed_sections": [],
      "authorship_tag": "ABX9TyOzs46k8jUgfH3Mhji6NhGd",
      "include_colab_link": true
    },
    "kernelspec": {
      "name": "python3",
      "display_name": "Python 3"
    },
    "language_info": {
      "name": "python"
    }
  },
  "cells": [
    {
      "cell_type": "markdown",
      "metadata": {
        "id": "view-in-github",
        "colab_type": "text"
      },
      "source": [
        "<a href=\"https://colab.research.google.com/github/3C37/3C37-s-Storage/blob/main/%EA%B3%BC%EC%9E%90.ipynb\" target=\"_parent\"><img src=\"https://colab.research.google.com/assets/colab-badge.svg\" alt=\"Open In Colab\"/></a>"
      ]
    },
    {
      "cell_type": "code",
      "execution_count": 2,
      "metadata": {
        "colab": {
          "base_uri": "https://localhost:8080/"
        },
        "id": "PkTGe4QTtJMO",
        "outputId": "d25f6075-6bed-42c6-a61d-5592fb1b2758"
      },
      "outputs": [
        {
          "output_type": "stream",
          "name": "stdout",
          "text": [
            "250 2 140\n",
            "360\n"
          ]
        }
      ],
      "source": [
        "## https://www.acmicpc.net/problem/10156\n",
        "\n",
        "K, N, M = map(int, input().split())\n",
        "\n",
        "if K*N > M:\n",
        "  print(K*N - M)\n",
        "else:\n",
        "  print(0)"
      ]
    }
  ]
}