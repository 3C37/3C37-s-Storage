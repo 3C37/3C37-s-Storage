{
  "nbformat": 4,
  "nbformat_minor": 0,
  "metadata": {
    "colab": {
      "name": "듣보잡.ipynb",
      "provenance": [],
      "collapsed_sections": [],
      "authorship_tag": "ABX9TyMxL0tbO+mKblkCx3x+3SpU",
      "include_colab_link": true
    },
    "kernelspec": {
      "name": "python3",
      "display_name": "Python 3"
    },
    "language_info": {
      "name": "python"
    }
  },
  "cells": [
    {
      "cell_type": "markdown",
      "metadata": {
        "id": "view-in-github",
        "colab_type": "text"
      },
      "source": [
        "<a href=\"https://colab.research.google.com/github/3C37/3C37-s-Storage/blob/main/%EB%93%A3%EB%B3%B4%EC%9E%A1.ipynb\" target=\"_parent\"><img src=\"https://colab.research.google.com/assets/colab-badge.svg\" alt=\"Open In Colab\"/></a>"
      ]
    },
    {
      "cell_type": "code",
      "execution_count": 4,
      "metadata": {
        "colab": {
          "base_uri": "https://localhost:8080/"
        },
        "id": "vOtvoMqOf0P-",
        "outputId": "44b26505-f7ab-45e6-9074-0b82a5dd46df"
      },
      "outputs": [
        {
          "output_type": "stream",
          "name": "stdout",
          "text": [
            "3 4\n",
            "ohhenrie\n",
            "charlie\n",
            "baesangwook\n",
            "obama\n",
            "baesangwook\n",
            "ohhenrie\n",
            "clinton\n",
            "2\n",
            "baesangwook\n",
            "ohhenrie\n"
          ]
        }
      ],
      "source": [
        "## https://www.acmicpc.net/problem/1764\n",
        "\n",
        "N, M = map(int, input().split())\n",
        "\n",
        "nh = set()\n",
        "ns = set()\n",
        "\n",
        "for N in range(N):\n",
        "  nh.add(input())\n",
        "\n",
        "for M in range(M):\n",
        "  ns.add(input())\n",
        "\n",
        "nsh = nh & ns\n",
        "\n",
        "print(len(nsh))\n",
        "\n",
        "result = []\n",
        "\n",
        "for i in nsh:\n",
        "  result.append(i)\n",
        "\n",
        "result = sorted(result)\n",
        "\n",
        "for i in result:\n",
        "  print(i)\n"
      ]
    }
  ]
}