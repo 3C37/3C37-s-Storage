{
  "nbformat": 4,
  "nbformat_minor": 0,
  "metadata": {
    "colab": {
      "name": "네 번째 점.ipynb",
      "provenance": [],
      "collapsed_sections": [],
      "authorship_tag": "ABX9TyMhhLy1mDgA7P0gOwsuJ6qh",
      "include_colab_link": true
    },
    "kernelspec": {
      "name": "python3",
      "display_name": "Python 3"
    },
    "language_info": {
      "name": "python"
    }
  },
  "cells": [
    {
      "cell_type": "markdown",
      "metadata": {
        "id": "view-in-github",
        "colab_type": "text"
      },
      "source": [
        "<a href=\"https://colab.research.google.com/github/3C37/3C37-s-Storage/blob/main/%EB%84%A4_%EB%B2%88%EC%A7%B8_%EC%A0%90.ipynb\" target=\"_parent\"><img src=\"https://colab.research.google.com/assets/colab-badge.svg\" alt=\"Open In Colab\"/></a>"
      ]
    },
    {
      "cell_type": "code",
      "source": [
        "## https://www.acmicpc.net/problem/3009\n",
        "\n",
        "d1x, d1y = map(int, input().split())\n",
        "d2x, d2y = map(int, input().split())\n",
        "d3x, d3y = map(int, input().split())\n",
        "\n",
        "if d1x == d2x:\n",
        "  rx = d3x\n",
        "elif d2x == d3x:\n",
        "  rx = d1x\n",
        "elif d3x == d1x:\n",
        "  rx = d2x\n",
        "\n",
        "if d1y == d2y:\n",
        "  ry = d3y\n",
        "elif d2y == d3y:\n",
        "  ry = d1y\n",
        "elif d3y == d1y:\n",
        "  ry = d2y\n",
        "\n",
        "print(rx, ry)"
      ],
      "metadata": {
        "colab": {
          "base_uri": "https://localhost:8080/"
        },
        "id": "ZmDvzX5SOq_D",
        "outputId": "ab5aa062-13f9-48d1-a9e9-155331f3f63e"
      },
      "execution_count": null,
      "outputs": [
        {
          "output_type": "stream",
          "name": "stdout",
          "text": [
            "5 5\n",
            "5 7\n",
            "7 5\n",
            "7 7\n"
          ]
        }
      ]
    }
  ]
}