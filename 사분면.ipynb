{
  "nbformat": 4,
  "nbformat_minor": 0,
  "metadata": {
    "colab": {
      "name": "사분면.ipynb",
      "provenance": [],
      "collapsed_sections": [],
      "authorship_tag": "ABX9TyOEsyeFRdUszy34ybsK7MQD",
      "include_colab_link": true
    },
    "kernelspec": {
      "name": "python3",
      "display_name": "Python 3"
    },
    "language_info": {
      "name": "python"
    }
  },
  "cells": [
    {
      "cell_type": "markdown",
      "metadata": {
        "id": "view-in-github",
        "colab_type": "text"
      },
      "source": [
        "<a href=\"https://colab.research.google.com/github/3C37/3C37-s-Storage/blob/main/%EC%82%AC%EB%B6%84%EB%A9%B4.ipynb\" target=\"_parent\"><img src=\"https://colab.research.google.com/assets/colab-badge.svg\" alt=\"Open In Colab\"/></a>"
      ]
    },
    {
      "cell_type": "code",
      "execution_count": 1,
      "metadata": {
        "colab": {
          "base_uri": "https://localhost:8080/"
        },
        "id": "ySbyxdwGdN_P",
        "outputId": "055e358b-56d6-4ec3-9c49-60263f21ff4c"
      },
      "outputs": [
        {
          "output_type": "stream",
          "name": "stdout",
          "text": [
            "5\n",
            "0 0\n",
            "0 1\n",
            "1 1\n",
            "3 -3\n",
            "2 2\n",
            "Q1: 2\n",
            "Q2: 0\n",
            "Q3: 0\n",
            "Q4: 1\n",
            "AXIS: 2\n"
          ]
        }
      ],
      "source": [
        "## https://www.acmicpc.net/problem/9610\n",
        "\n",
        "n = int(input())\n",
        "\n",
        "Q1, Q2, Q3, Q4, AXIS = 0, 0, 0, 0, 0\n",
        "\n",
        "for i in range(n):\n",
        "  x, y = map(int, input().split())\n",
        "  if x == 0 or y == 0:\n",
        "    AXIS += 1\n",
        "  elif x > 0 and y > 0:\n",
        "    Q1 += 1\n",
        "  elif x < 0 and y > 0:\n",
        "    Q2 += 1\n",
        "  elif x < 0 and y < 0:\n",
        "    Q3 += 1\n",
        "  elif x > 0 and y < 0:\n",
        "    Q4 += 1\n",
        "\n",
        "print(\"Q1: %s\" %(Q1))\n",
        "print(\"Q2: %s\" %(Q2))\n",
        "print(\"Q3: %s\" %(Q3))\n",
        "print(\"Q4: %s\" %(Q4))\n",
        "print(\"AXIS: %s\" %(AXIS))"
      ]
    }
  ]
}