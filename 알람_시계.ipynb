{
  "nbformat": 4,
  "nbformat_minor": 0,
  "metadata": {
    "colab": {
      "name": "알람 시계.ipynb",
      "provenance": [],
      "collapsed_sections": [],
      "authorship_tag": "ABX9TyPM8zrvankVIT6sfbfdJmhQ",
      "include_colab_link": true
    },
    "kernelspec": {
      "name": "python3",
      "display_name": "Python 3"
    },
    "language_info": {
      "name": "python"
    }
  },
  "cells": [
    {
      "cell_type": "markdown",
      "metadata": {
        "id": "view-in-github",
        "colab_type": "text"
      },
      "source": [
        "<a href=\"https://colab.research.google.com/github/3C37/3C37-s-Storage/blob/main/%EC%95%8C%EB%9E%8C_%EC%8B%9C%EA%B3%84.ipynb\" target=\"_parent\"><img src=\"https://colab.research.google.com/assets/colab-badge.svg\" alt=\"Open In Colab\"/></a>"
      ]
    },
    {
      "cell_type": "code",
      "execution_count": 4,
      "metadata": {
        "colab": {
          "base_uri": "https://localhost:8080/"
        },
        "id": "BnhkmJqPf8y5",
        "outputId": "f0e9199d-15de-4ed9-e661-8ee206879af7"
      },
      "outputs": [
        {
          "output_type": "stream",
          "name": "stdout",
          "text": [
            "23 40\n",
            "22 55\n"
          ]
        }
      ],
      "source": [
        "## https://www.acmicpc.net/problem/2884\n",
        "\n",
        "H, M = map(int, input().split())\n",
        "\n",
        "if M - 45 < 0:\n",
        "  M += 15\n",
        "  if H == 0:\n",
        "    H = 23\n",
        "  else:\n",
        "    H -= 1\n",
        "else:\n",
        "  M -= 45\n",
        "\n",
        "print(H, M)"
      ]
    }
  ]
}