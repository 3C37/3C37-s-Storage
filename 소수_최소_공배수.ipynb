{
  "nbformat": 4,
  "nbformat_minor": 0,
  "metadata": {
    "colab": {
      "name": "소수 최소 공배수.ipynb",
      "provenance": [],
      "collapsed_sections": [],
      "authorship_tag": "ABX9TyPjLu82x3BBGIu2j44dZi8z",
      "include_colab_link": true
    },
    "kernelspec": {
      "name": "python3",
      "display_name": "Python 3"
    },
    "language_info": {
      "name": "python"
    }
  },
  "cells": [
    {
      "cell_type": "markdown",
      "metadata": {
        "id": "view-in-github",
        "colab_type": "text"
      },
      "source": [
        "<a href=\"https://colab.research.google.com/github/3C37/3C37-s-Storage/blob/main/%EC%86%8C%EC%88%98_%EC%B5%9C%EC%86%8C_%EA%B3%B5%EB%B0%B0%EC%88%98.ipynb\" target=\"_parent\"><img src=\"https://colab.research.google.com/assets/colab-badge.svg\" alt=\"Open In Colab\"/></a>"
      ]
    },
    {
      "cell_type": "code",
      "execution_count": 22,
      "metadata": {
        "colab": {
          "base_uri": "https://localhost:8080/"
        },
        "id": "ObaxA7mI5gJh",
        "outputId": "208def2d-0720-4cfe-81d2-3ec2631fb1f6"
      },
      "outputs": [
        {
          "output_type": "stream",
          "name": "stdout",
          "text": [
            "5\n",
            "2 3 5 6 8\n",
            "30\n"
          ]
        }
      ],
      "source": [
        "## https://www.acmicpc.net/problem/21919\n",
        "\n",
        "N = int(input())\n",
        "nums = set(map(int, input().split()))\n",
        "\n",
        "def is_prime(x):\n",
        "  for i in range(2, int(x**0.5) + 1):\n",
        "    if x%i == 0:\n",
        "      return False\n",
        "      break\n",
        "  return True\n",
        "\n",
        "result = 1\n",
        "\n",
        "for i in nums:\n",
        "  if is_prime(i) and i != 1:\n",
        "    result *= i\n",
        "\n",
        "if result == 1:\n",
        "  print(-1)\n",
        "else:\n",
        "  print(result)"
      ]
    }
  ]
}