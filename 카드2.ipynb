{
  "nbformat": 4,
  "nbformat_minor": 0,
  "metadata": {
    "colab": {
      "name": "카드2.ipynb",
      "provenance": [],
      "collapsed_sections": [],
      "authorship_tag": "ABX9TyNqgsAbM0+ywmQgLfCT90Ud",
      "include_colab_link": true
    },
    "kernelspec": {
      "name": "python3",
      "display_name": "Python 3"
    },
    "language_info": {
      "name": "python"
    }
  },
  "cells": [
    {
      "cell_type": "markdown",
      "metadata": {
        "id": "view-in-github",
        "colab_type": "text"
      },
      "source": [
        "<a href=\"https://colab.research.google.com/github/3C37/3C37-s-Storage/blob/main/%EC%B9%B4%EB%93%9C2.ipynb\" target=\"_parent\"><img src=\"https://colab.research.google.com/assets/colab-badge.svg\" alt=\"Open In Colab\"/></a>"
      ]
    },
    {
      "cell_type": "code",
      "execution_count": 11,
      "metadata": {
        "colab": {
          "base_uri": "https://localhost:8080/"
        },
        "id": "46-dxPZAWLjn",
        "outputId": "ff0d354a-1cc6-4331-e00e-702cab817cc7"
      },
      "outputs": [
        {
          "output_type": "stream",
          "name": "stdout",
          "text": [
            "6\n",
            "4\n"
          ]
        }
      ],
      "source": [
        "## https://www.acmicpc.net/problem/2164\n",
        "\n",
        "from collections import deque\n",
        "\n",
        "N = int(input())\n",
        "\n",
        "lst = deque()\n",
        "\n",
        "for i in range(1, N + 1):\n",
        "  lst.append(i)\n",
        "\n",
        "while len(lst) != 1:\n",
        "  lst.popleft()\n",
        "  lst.append(lst.popleft())\n",
        "\n",
        "print(lst[0])"
      ]
    }
  ]
}