{
  "nbformat": 4,
  "nbformat_minor": 0,
  "metadata": {
    "colab": {
      "name": "피보나치 수 5.ipynb",
      "provenance": [],
      "collapsed_sections": [],
      "authorship_tag": "ABX9TyMJJ+XlohgMROK+/TPuBsQN",
      "include_colab_link": true
    },
    "kernelspec": {
      "name": "python3",
      "display_name": "Python 3"
    },
    "language_info": {
      "name": "python"
    }
  },
  "cells": [
    {
      "cell_type": "markdown",
      "metadata": {
        "id": "view-in-github",
        "colab_type": "text"
      },
      "source": [
        "<a href=\"https://colab.research.google.com/github/3C37/3C37-s-Storage/blob/main/%ED%94%BC%EB%B3%B4%EB%82%98%EC%B9%98_%EC%88%98_5.ipynb\" target=\"_parent\"><img src=\"https://colab.research.google.com/assets/colab-badge.svg\" alt=\"Open In Colab\"/></a>"
      ]
    },
    {
      "cell_type": "code",
      "execution_count": 3,
      "metadata": {
        "colab": {
          "base_uri": "https://localhost:8080/"
        },
        "id": "FUUck7AbvLpQ",
        "outputId": "7fa81a1c-7efa-4bbc-9cee-25fac475d7d0"
      },
      "outputs": [
        {
          "output_type": "stream",
          "name": "stdout",
          "text": [
            "0\n",
            "0\n"
          ]
        }
      ],
      "source": [
        "## https://www.acmicpc.net/problem/10870\n",
        "\n",
        "n = int(input())\n",
        "\n",
        "def piv(n):\n",
        "  a = 0\n",
        "  b = 1\n",
        "  for i in range(n - 1):\n",
        "    a, b = b, a + b\n",
        "  print(b)\n",
        "\n",
        "if n != 0:\n",
        "  piv(n)\n",
        "else:\n",
        "  print(0)"
      ]
    }
  ]
}