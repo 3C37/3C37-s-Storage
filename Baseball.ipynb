{
  "nbformat": 4,
  "nbformat_minor": 0,
  "metadata": {
    "colab": {
      "name": "Baseball.ipynb",
      "provenance": [],
      "collapsed_sections": [],
      "authorship_tag": "ABX9TyOeR8EOExwS3fBS79gZq4sG",
      "include_colab_link": true
    },
    "kernelspec": {
      "name": "python3",
      "display_name": "Python 3"
    },
    "language_info": {
      "name": "python"
    }
  },
  "cells": [
    {
      "cell_type": "markdown",
      "metadata": {
        "id": "view-in-github",
        "colab_type": "text"
      },
      "source": [
        "<a href=\"https://colab.research.google.com/github/3C37/3C37-s-Storage/blob/main/Baseball.ipynb\" target=\"_parent\"><img src=\"https://colab.research.google.com/assets/colab-badge.svg\" alt=\"Open In Colab\"/></a>"
      ]
    },
    {
      "cell_type": "code",
      "execution_count": 1,
      "metadata": {
        "colab": {
          "base_uri": "https://localhost:8080/"
        },
        "id": "wV4q8SHlWIn_",
        "outputId": "0b75bffd-cbbc-44cd-dc19-3880c6307616"
      },
      "outputs": [
        {
          "output_type": "stream",
          "name": "stdout",
          "text": [
            "1\n",
            "1 0\n",
            "0 0\n",
            "0 0\n",
            "0 0\n",
            "0 0\n",
            "0 0\n",
            "0 0\n",
            "0 0\n",
            "0 0\n",
            "Yonsei\n"
          ]
        }
      ],
      "source": [
        "## https://www.acmicpc.net/problem/10214\n",
        "\n",
        "T = int(input())\n",
        "\n",
        "def get_winner():\n",
        "  Y = 0\n",
        "  K = 0\n",
        "  for i in range(9):\n",
        "    a, b = map(int, input().split())\n",
        "    Y += a\n",
        "    K += b\n",
        "  if Y > K:\n",
        "    print(\"Yonsei\")\n",
        "  elif K > Y:\n",
        "    print(\"Korea\")\n",
        "  else:\n",
        "    print(\"Draw\")\n",
        "\n",
        "for i in range(T):\n",
        "  get_winner()"
      ]
    }
  ]
}