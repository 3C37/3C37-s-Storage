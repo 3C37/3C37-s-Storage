{
  "nbformat": 4,
  "nbformat_minor": 0,
  "metadata": {
    "colab": {
      "name": "소수&팰린드롬(에라토스테네스의 체 활용).ipynb",
      "provenance": [],
      "collapsed_sections": [],
      "authorship_tag": "ABX9TyOcQVW6reR/BrwICQr6TEfa",
      "include_colab_link": true
    },
    "kernelspec": {
      "name": "python3",
      "display_name": "Python 3"
    },
    "language_info": {
      "name": "python"
    }
  },
  "cells": [
    {
      "cell_type": "markdown",
      "metadata": {
        "id": "view-in-github",
        "colab_type": "text"
      },
      "source": [
        "<a href=\"https://colab.research.google.com/github/3C37/3C37-s-Storage/blob/main/%EC%86%8C%EC%88%98%26%ED%8C%B0%EB%A6%B0%EB%93%9C%EB%A1%AC(%EC%97%90%EB%9D%BC%ED%86%A0%EC%8A%A4%ED%85%8C%EB%84%A4%EC%8A%A4%EC%9D%98_%EC%B2%B4_%ED%99%9C%EC%9A%A9).ipynb\" target=\"_parent\"><img src=\"https://colab.research.google.com/assets/colab-badge.svg\" alt=\"Open In Colab\"/></a>"
      ]
    },
    {
      "cell_type": "code",
      "execution_count": null,
      "metadata": {
        "id": "oIxmhRazC8uX"
      },
      "outputs": [],
      "source": [
        "## https://www.acmicpc.net/problem/1747\n",
        "\n",
        "num = int(input())\n",
        "limit = 1010000\n",
        "\n",
        "def prime(x, y):\n",
        "  numlist = [True] * (x + 1)\n",
        "  numlist[0] = False\n",
        "  numlist[1] = False\n",
        "\n",
        "  tmp = []\n",
        "\n",
        "  for i in range(2, int(x**0.5)+1):\n",
        "    if numlist[i]:\n",
        "      for j in range(i*2, x + 1, i):\n",
        "        numlist[j] = False\n",
        "\n",
        "  for i in range(y, len(numlist)):\n",
        "    if numlist[i]:\n",
        "      tmp.append(i)\n",
        "  return tmp\n",
        "\n",
        "def is_palindrome(x):\n",
        "  if str(x) == str(x)[::-1]:\n",
        "    return True\n",
        "  else:\n",
        "    return False\n",
        "\n",
        "primelist = prime(limit, num)\n",
        "\n",
        "for i in primelist:\n",
        "  if is_palindrome(i):\n",
        "    print(i)\n",
        "    break"
      ]
    }
  ]
}