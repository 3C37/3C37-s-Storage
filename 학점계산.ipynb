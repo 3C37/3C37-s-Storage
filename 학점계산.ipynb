{
  "nbformat": 4,
  "nbformat_minor": 0,
  "metadata": {
    "colab": {
      "name": "학점계산.ipynb",
      "provenance": [],
      "collapsed_sections": [],
      "authorship_tag": "ABX9TyPxWIx7KRp/ok3sSVkVXx7c",
      "include_colab_link": true
    },
    "kernelspec": {
      "name": "python3",
      "display_name": "Python 3"
    },
    "language_info": {
      "name": "python"
    }
  },
  "cells": [
    {
      "cell_type": "markdown",
      "metadata": {
        "id": "view-in-github",
        "colab_type": "text"
      },
      "source": [
        "<a href=\"https://colab.research.google.com/github/3C37/3C37-s-Storage/blob/main/%ED%95%99%EC%A0%90%EA%B3%84%EC%82%B0.ipynb\" target=\"_parent\"><img src=\"https://colab.research.google.com/assets/colab-badge.svg\" alt=\"Open In Colab\"/></a>"
      ]
    },
    {
      "cell_type": "code",
      "execution_count": 4,
      "metadata": {
        "colab": {
          "base_uri": "https://localhost:8080/"
        },
        "id": "DHAh9z3udzY6",
        "outputId": "1d1c7bda-0681-49c7-ae68-6954186806ff"
      },
      "outputs": [
        {
          "output_type": "stream",
          "name": "stdout",
          "text": [
            "F\n",
            "0.0\n"
          ]
        }
      ],
      "source": [
        "## https://www.acmicpc.net/problem/2754\n",
        "\n",
        "grade = input()\n",
        "\n",
        "conv = {\"A\":4, \"B\":3, \"C\":2, \"D\":1, \"F\":0}\n",
        "\n",
        "if grade[1:2] == \"+\":\n",
        "  print(conv[grade[0:1]] + 0.3)\n",
        "elif grade[1:2] == \"0\":\n",
        "  print(conv[grade[0:1]] + 0.0)\n",
        "elif grade[1:2] == \"-\":\n",
        "  print(conv[grade[0:1]] - 0.3)\n",
        "elif grade == \"F\":\n",
        "  print(0.0)"
      ]
    }
  ]
}