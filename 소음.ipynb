{
  "nbformat": 4,
  "nbformat_minor": 0,
  "metadata": {
    "colab": {
      "name": "소음.ipynb",
      "provenance": [],
      "collapsed_sections": [],
      "authorship_tag": "ABX9TyMu6IPFFE13snHdDJm51Kfj",
      "include_colab_link": true
    },
    "kernelspec": {
      "name": "python3",
      "display_name": "Python 3"
    },
    "language_info": {
      "name": "python"
    }
  },
  "cells": [
    {
      "cell_type": "markdown",
      "metadata": {
        "id": "view-in-github",
        "colab_type": "text"
      },
      "source": [
        "<a href=\"https://colab.research.google.com/github/3C37/3C37-s-Storage/blob/main/%EC%86%8C%EC%9D%8C.ipynb\" target=\"_parent\"><img src=\"https://colab.research.google.com/assets/colab-badge.svg\" alt=\"Open In Colab\"/></a>"
      ]
    },
    {
      "cell_type": "code",
      "execution_count": 2,
      "metadata": {
        "colab": {
          "base_uri": "https://localhost:8080/"
        },
        "id": "lzb7M9B1R1f6",
        "outputId": "45839093-c0ab-4540-b7c7-da398e174f9f"
      },
      "outputs": [
        {
          "output_type": "stream",
          "name": "stdout",
          "text": [
            "1000\n",
            "*\n",
            "100\n",
            "100000\n"
          ]
        }
      ],
      "source": [
        "## https://www.acmicpc.net/problem/2935\n",
        "\n",
        "A = int(input())\n",
        "C = input()\n",
        "B = int(input())\n",
        "\n",
        "if C == \"+\":\n",
        "  print(A+B)\n",
        "elif C == \"*\":\n",
        "  print(A*B)"
      ]
    }
  ]
}