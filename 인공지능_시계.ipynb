{
  "nbformat": 4,
  "nbformat_minor": 0,
  "metadata": {
    "colab": {
      "name": "인공지능 시계.ipynb",
      "provenance": [],
      "collapsed_sections": [],
      "authorship_tag": "ABX9TyN4mQO/z/6ZyIvl+wYR1x+1",
      "include_colab_link": true
    },
    "kernelspec": {
      "name": "python3",
      "display_name": "Python 3"
    },
    "language_info": {
      "name": "python"
    }
  },
  "cells": [
    {
      "cell_type": "markdown",
      "metadata": {
        "id": "view-in-github",
        "colab_type": "text"
      },
      "source": [
        "<a href=\"https://colab.research.google.com/github/3C37/3C37-s-Storage/blob/main/%EC%9D%B8%EA%B3%B5%EC%A7%80%EB%8A%A5_%EC%8B%9C%EA%B3%84.ipynb\" target=\"_parent\"><img src=\"https://colab.research.google.com/assets/colab-badge.svg\" alt=\"Open In Colab\"/></a>"
      ]
    },
    {
      "cell_type": "code",
      "execution_count": 15,
      "metadata": {
        "colab": {
          "base_uri": "https://localhost:8080/"
        },
        "id": "rwlYkNjF8tZD",
        "outputId": "b57dde8a-cb38-4558-bb1c-d700edd8f842"
      },
      "outputs": [
        {
          "output_type": "stream",
          "name": "stdout",
          "text": [
            "0 0 0\n",
            "216000\n",
            "12 0 0\n"
          ]
        }
      ],
      "source": [
        "## https://www.acmicpc.net/problem/2530\n",
        "\n",
        "H, M, S = map(int, input().split())\n",
        "cook_time = int(input())\n",
        "\n",
        "tmp = H*60**2 + M*60 + S + cook_time\n",
        "\n",
        "H = tmp // 60**2\n",
        "tmp = tmp % 60**2\n",
        "\n",
        "M = tmp // 60\n",
        "S = tmp % 60\n",
        "\n",
        "while H >= 24:\n",
        "  H -= 24\n",
        "\n",
        "print(\"%s %s %s\" %(H, M, S))"
      ]
    }
  ]
}