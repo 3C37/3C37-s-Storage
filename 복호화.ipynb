{
  "nbformat": 4,
  "nbformat_minor": 0,
  "metadata": {
    "colab": {
      "name": "복호화.ipynb",
      "provenance": [],
      "collapsed_sections": [],
      "authorship_tag": "ABX9TyNZrY2eJm4vK55wp23R1qkm",
      "include_colab_link": true
    },
    "kernelspec": {
      "name": "python3",
      "display_name": "Python 3"
    },
    "language_info": {
      "name": "python"
    }
  },
  "cells": [
    {
      "cell_type": "markdown",
      "metadata": {
        "id": "view-in-github",
        "colab_type": "text"
      },
      "source": [
        "<a href=\"https://colab.research.google.com/github/3C37/3C37-s-Storage/blob/main/%EB%B3%B5%ED%98%B8%ED%99%94.ipynb\" target=\"_parent\"><img src=\"https://colab.research.google.com/assets/colab-badge.svg\" alt=\"Open In Colab\"/></a>"
      ]
    },
    {
      "cell_type": "code",
      "execution_count": 79,
      "metadata": {
        "colab": {
          "base_uri": "https://localhost:8080/"
        },
        "id": "IKF49bDTxBfe",
        "outputId": "9f05a9e3-34a5-4d18-a2f2-6c0c6aabace3"
      },
      "outputs": [
        {
          "output_type": "stream",
          "name": "stdout",
          "text": [
            "1\n",
            "aa\n",
            "a\n"
          ]
        }
      ],
      "source": [
        "## https://www.acmicpc.net/problem/9046\n",
        "from collections import Counter\n",
        "\n",
        "x = int(input())\n",
        "\n",
        "for x in range(x):\n",
        "  y = input()\n",
        "  y = y.replace(\" \",\"\")\n",
        "  dy = Counter(y).items()\n",
        "  dys = sorted(dy, key = lambda x : x[1], reverse = True)\n",
        "  try:\n",
        "    fl = list(str(dys[0]))\n",
        "    fl2 = list(str(dys[1]))\n",
        "  except:\n",
        "    fl2 = [000000]\n",
        "  if fl[3:] != fl2[3:]:\n",
        "    print(fl[2])\n",
        "  else:\n",
        "    print(\"?\")  "
      ]
    }
  ]
}