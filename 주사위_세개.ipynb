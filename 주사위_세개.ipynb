{
  "nbformat": 4,
  "nbformat_minor": 0,
  "metadata": {
    "colab": {
      "name": "주사위 세개.ipynb",
      "provenance": [],
      "collapsed_sections": [],
      "authorship_tag": "ABX9TyMPWI+k6rtEsB7iMg4hFX9i",
      "include_colab_link": true
    },
    "kernelspec": {
      "name": "python3",
      "display_name": "Python 3"
    },
    "language_info": {
      "name": "python"
    }
  },
  "cells": [
    {
      "cell_type": "markdown",
      "metadata": {
        "id": "view-in-github",
        "colab_type": "text"
      },
      "source": [
        "<a href=\"https://colab.research.google.com/github/3C37/3C37-s-Storage/blob/main/%EC%A3%BC%EC%82%AC%EC%9C%84_%EC%84%B8%EA%B0%9C.ipynb\" target=\"_parent\"><img src=\"https://colab.research.google.com/assets/colab-badge.svg\" alt=\"Open In Colab\"/></a>"
      ]
    },
    {
      "cell_type": "code",
      "execution_count": 5,
      "metadata": {
        "colab": {
          "base_uri": "https://localhost:8080/"
        },
        "id": "XOySOxokzCf6",
        "outputId": "af2419f5-f86f-45e4-d7f7-f4a3dd2d711f"
      },
      "outputs": [
        {
          "output_type": "stream",
          "name": "stdout",
          "text": [
            "6 2 5\n",
            "600\n"
          ]
        }
      ],
      "source": [
        "## https://www.acmicpc.net/problem/2480\n",
        "\n",
        "D1, D2, D3 = map(int, input().split())\n",
        "\n",
        "if D1 == D2 == D3:\n",
        "  print(D1 * 1000 + 10000)\n",
        "elif D1 != D2 and D1 != D3 and D2 != D3:\n",
        "  print(max(D1, D2, D3) * 100)\n",
        "else:\n",
        "  if D1 == D2 or D1 == D3:\n",
        "    print(1000 + D1 * 100)\n",
        "  else:\n",
        "    print(1000 + D3 * 100)"
      ]
    }
  ]
}