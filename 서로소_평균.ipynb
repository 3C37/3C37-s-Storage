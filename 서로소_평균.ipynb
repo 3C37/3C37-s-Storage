{
  "nbformat": 4,
  "nbformat_minor": 0,
  "metadata": {
    "colab": {
      "name": "서로소 평균.ipynb",
      "provenance": [],
      "collapsed_sections": [],
      "authorship_tag": "ABX9TyNiOQ4gOhvxZBAtING52SfY",
      "include_colab_link": true
    },
    "kernelspec": {
      "name": "python3",
      "display_name": "Python 3"
    },
    "language_info": {
      "name": "python"
    }
  },
  "cells": [
    {
      "cell_type": "markdown",
      "metadata": {
        "id": "view-in-github",
        "colab_type": "text"
      },
      "source": [
        "<a href=\"https://colab.research.google.com/github/3C37/3C37-s-Storage/blob/main/%EC%84%9C%EB%A1%9C%EC%86%8C_%ED%8F%89%EA%B7%A0.ipynb\" target=\"_parent\"><img src=\"https://colab.research.google.com/assets/colab-badge.svg\" alt=\"Open In Colab\"/></a>"
      ]
    },
    {
      "cell_type": "code",
      "execution_count": 9,
      "metadata": {
        "colab": {
          "base_uri": "https://localhost:8080/"
        },
        "id": "nxL7iRTWGMzS",
        "outputId": "145edbea-0b4d-4168-c433-724c30afeebc"
      },
      "outputs": [
        {
          "output_type": "stream",
          "name": "stdout",
          "text": [
            "5\n",
            "4 2 8 5 7\n",
            "4\n",
            "6.0\n"
          ]
        }
      ],
      "source": [
        "## https://www.acmicpc.net/problem/21920\n",
        "\n",
        "N = int(input())\n",
        "nums = list(map(int, input().split()))\n",
        "X = int(input())\n",
        "\n",
        "def GCD(a, b):\n",
        "  A, B = max(a, b), min(a, b)\n",
        "  while A%B != 0:\n",
        "    A, B = B, A%B\n",
        "  return(B)\n",
        "  \n",
        "result = 0\n",
        "cnt = 0\n",
        "\n",
        "for i in nums:\n",
        "  if GCD(i, X) == 1:\n",
        "    result += i\n",
        "    cnt += 1\n",
        "print(result/cnt)"
      ]
    }
  ]
}