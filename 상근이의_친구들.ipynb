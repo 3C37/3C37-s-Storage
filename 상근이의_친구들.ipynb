{
  "nbformat": 4,
  "nbformat_minor": 0,
  "metadata": {
    "colab": {
      "name": "상근이의 친구들.ipynb",
      "provenance": [],
      "collapsed_sections": [],
      "authorship_tag": "ABX9TyPG575s7NjvToHaXXaJ4vnB",
      "include_colab_link": true
    },
    "kernelspec": {
      "name": "python3",
      "display_name": "Python 3"
    },
    "language_info": {
      "name": "python"
    }
  },
  "cells": [
    {
      "cell_type": "markdown",
      "metadata": {
        "id": "view-in-github",
        "colab_type": "text"
      },
      "source": [
        "<a href=\"https://colab.research.google.com/github/3C37/3C37-s-Storage/blob/main/%EC%83%81%EA%B7%BC%EC%9D%B4%EC%9D%98_%EC%B9%9C%EA%B5%AC%EB%93%A4.ipynb\" target=\"_parent\"><img src=\"https://colab.research.google.com/assets/colab-badge.svg\" alt=\"Open In Colab\"/></a>"
      ]
    },
    {
      "cell_type": "code",
      "source": [
        "## https://www.acmicpc.net/problem/5717\n",
        "\n",
        "while True:\n",
        "  M, F = map(int, input().split())\n",
        "  if M == F == 0:\n",
        "    break\n",
        "  else:\n",
        "    print(M + F)"
      ],
      "metadata": {
        "id": "x0l06wM9SjdK",
        "colab": {
          "base_uri": "https://localhost:8080/"
        },
        "outputId": "359abde0-a245-4a3a-e628-f0a12002e79e"
      },
      "execution_count": 1,
      "outputs": [
        {
          "name": "stdout",
          "output_type": "stream",
          "text": [
            "2 2\n",
            "4\n",
            "2 3\n",
            "5\n",
            "5 5\n",
            "10\n",
            "1 1\n",
            "2\n",
            "0 0\n"
          ]
        }
      ]
    }
  ]
}