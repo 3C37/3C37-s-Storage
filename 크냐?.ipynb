{
  "nbformat": 4,
  "nbformat_minor": 0,
  "metadata": {
    "colab": {
      "name": "크냐?.ipynb",
      "provenance": [],
      "collapsed_sections": [],
      "authorship_tag": "ABX9TyN3LX0TcvQM+MIzqKPqvHTD",
      "include_colab_link": true
    },
    "kernelspec": {
      "name": "python3",
      "display_name": "Python 3"
    },
    "language_info": {
      "name": "python"
    }
  },
  "cells": [
    {
      "cell_type": "markdown",
      "metadata": {
        "id": "view-in-github",
        "colab_type": "text"
      },
      "source": [
        "<a href=\"https://colab.research.google.com/github/3C37/3C37-s-Storage/blob/main/%ED%81%AC%EB%83%90%3F.ipynb\" target=\"_parent\"><img src=\"https://colab.research.google.com/assets/colab-badge.svg\" alt=\"Open In Colab\"/></a>"
      ]
    },
    {
      "cell_type": "code",
      "execution_count": 2,
      "metadata": {
        "colab": {
          "base_uri": "https://localhost:8080/"
        },
        "id": "R0ygZ6wf3Psb",
        "outputId": "a6391e30-7926-43d1-fea7-3ab6c49d6f0c"
      },
      "outputs": [
        {
          "name": "stdout",
          "output_type": "stream",
          "text": [
            "1 19\n",
            "NO\n",
            "4 4\n",
            "NO\n",
            "23 14\n",
            "YES\n",
            "0 0\n"
          ]
        }
      ],
      "source": [
        "## https://www.acmicpc.net/problem/4101\n",
        "\n",
        "while True:\n",
        "  A, B = map(int, input().split())\n",
        "  if A > B:\n",
        "    print(\"Yes\")\n",
        "  elif A == B == 0:\n",
        "    break\n",
        "  else:\n",
        "    print(\"No\")"
      ]
    }
  ]
}