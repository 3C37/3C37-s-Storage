{
  "nbformat": 4,
  "nbformat_minor": 0,
  "metadata": {
    "colab": {
      "name": "다음 소수.ipynb",
      "provenance": [],
      "collapsed_sections": [],
      "authorship_tag": "ABX9TyMtmjNmavx9XSwK8IpgGhR+",
      "include_colab_link": true
    },
    "kernelspec": {
      "name": "python3",
      "display_name": "Python 3"
    },
    "language_info": {
      "name": "python"
    }
  },
  "cells": [
    {
      "cell_type": "markdown",
      "metadata": {
        "id": "view-in-github",
        "colab_type": "text"
      },
      "source": [
        "<a href=\"https://colab.research.google.com/github/3C37/3C37-s-Storage/blob/main/%EB%8B%A4%EC%9D%8C_%EC%86%8C%EC%88%98.ipynb\" target=\"_parent\"><img src=\"https://colab.research.google.com/assets/colab-badge.svg\" alt=\"Open In Colab\"/></a>"
      ]
    },
    {
      "cell_type": "code",
      "execution_count": 5,
      "metadata": {
        "colab": {
          "base_uri": "https://localhost:8080/"
        },
        "id": "b66m77DA6e8e",
        "outputId": "6321ceb5-943b-4e5f-dbac-5a71c6d17e2c"
      },
      "outputs": [
        {
          "output_type": "stream",
          "name": "stdout",
          "text": [
            "3\n",
            "6\n",
            "7\n",
            "20\n",
            "23\n",
            "100\n",
            "101\n"
          ]
        }
      ],
      "source": [
        "## https://www.acmicpc.net/problem/4134\n",
        "\n",
        "cy = int(input())\n",
        "\n",
        "def prime(n):\n",
        "\n",
        "  if n == 0 or n == 1:\n",
        "    return False\n",
        "\n",
        "  for i in range(2, int(n**0.5) + 1):\n",
        "      if n%i == 0:\n",
        "        return False\n",
        "\n",
        "  return True\n",
        "  \n",
        "for i in range(cy):\n",
        "  n = int(input())\n",
        "  while True:\n",
        "    if prime(n):\n",
        "      print(n)\n",
        "      break\n",
        "    else:\n",
        "      n += 1"
      ]
    }
  ]
}