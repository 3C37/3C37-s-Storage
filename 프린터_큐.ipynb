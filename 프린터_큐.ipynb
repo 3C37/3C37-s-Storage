{
  "nbformat": 4,
  "nbformat_minor": 0,
  "metadata": {
    "colab": {
      "name": "프린터 큐.ipynb",
      "provenance": [],
      "collapsed_sections": [],
      "authorship_tag": "ABX9TyPuRA/djMP2snHrdf41ABmY",
      "include_colab_link": true
    },
    "kernelspec": {
      "name": "python3",
      "display_name": "Python 3"
    },
    "language_info": {
      "name": "python"
    }
  },
  "cells": [
    {
      "cell_type": "markdown",
      "metadata": {
        "id": "view-in-github",
        "colab_type": "text"
      },
      "source": [
        "<a href=\"https://colab.research.google.com/github/3C37/3C37-s-Storage/blob/main/%ED%94%84%EB%A6%B0%ED%84%B0_%ED%81%90.ipynb\" target=\"_parent\"><img src=\"https://colab.research.google.com/assets/colab-badge.svg\" alt=\"Open In Colab\"/></a>"
      ]
    },
    {
      "cell_type": "code",
      "execution_count": 4,
      "metadata": {
        "colab": {
          "base_uri": "https://localhost:8080/"
        },
        "id": "mqZ1p4l-ngXk",
        "outputId": "6499de75-b948-4086-bdda-5979f103a09a"
      },
      "outputs": [
        {
          "output_type": "stream",
          "name": "stdout",
          "text": [
            "3\n",
            "1 0\n",
            "5\n",
            "1\n",
            "4 2\n",
            "1 2 3 4\n",
            "2\n",
            "6 0\n",
            "1 1 9 1 1 1\n",
            "5\n"
          ]
        }
      ],
      "source": [
        "## https://www.acmicpc.net/problem/1966\n",
        "\n",
        "from collections import deque\n",
        "\n",
        "cy = int(input())\n",
        "\n",
        "for i in range(cy):\n",
        "  n, m = map(int, input().split())\n",
        "  queue = deque(list(map(int, input().split())))\n",
        "  cnt = 0\n",
        "  while True:\n",
        "    big = max(queue)\n",
        "    front = queue.popleft()\n",
        "    m -= 1\n",
        "\n",
        "    if front == big:\n",
        "      cnt += 1\n",
        "      if m < 0:\n",
        "        print(cnt)\n",
        "        break\n",
        "    else:\n",
        "      queue.append(front)\n",
        "      if m < 0:\n",
        "        m = len(queue) - 1"
      ]
    }
  ]
}