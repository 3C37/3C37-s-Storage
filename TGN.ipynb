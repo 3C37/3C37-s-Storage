{
  "nbformat": 4,
  "nbformat_minor": 0,
  "metadata": {
    "colab": {
      "name": "TGN.ipynb",
      "provenance": [],
      "collapsed_sections": [],
      "authorship_tag": "ABX9TyNzAZHXauGe/xX/VVYnJahl",
      "include_colab_link": true
    },
    "kernelspec": {
      "name": "python3",
      "display_name": "Python 3"
    },
    "language_info": {
      "name": "python"
    }
  },
  "cells": [
    {
      "cell_type": "markdown",
      "metadata": {
        "id": "view-in-github",
        "colab_type": "text"
      },
      "source": [
        "<a href=\"https://colab.research.google.com/github/3C37/3C37-s-Storage/blob/main/TGN.ipynb\" target=\"_parent\"><img src=\"https://colab.research.google.com/assets/colab-badge.svg\" alt=\"Open In Colab\"/></a>"
      ]
    },
    {
      "cell_type": "code",
      "execution_count": 4,
      "metadata": {
        "colab": {
          "base_uri": "https://localhost:8080/"
        },
        "id": "A9O9BE-L9NBj",
        "outputId": "f7cfa67d-c246-448a-e44b-26afee4ce097"
      },
      "outputs": [
        {
          "output_type": "stream",
          "name": "stdout",
          "text": [
            "3\n",
            "0 100 70\n",
            "advertise\n",
            "100 130 30\n",
            "does not matter\n",
            "-100 -70 40\n",
            "do not advertise\n"
          ]
        }
      ],
      "source": [
        "## https://www.acmicpc.net/problem/5063\n",
        "\n",
        "N = int(input())\n",
        "\n",
        "for i in range(N):\n",
        "  r, e, c = map(int, input().split())\n",
        "  if e - c > r:\n",
        "    print(\"advertise\")\n",
        "  elif e - c == r:\n",
        "    print(\"does not matter\")\n",
        "  else:\n",
        "    print(\"do not advertise\")"
      ]
    }
  ]
}