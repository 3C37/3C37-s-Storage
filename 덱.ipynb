{
  "nbformat": 4,
  "nbformat_minor": 0,
  "metadata": {
    "colab": {
      "name": "덱.ipynb",
      "provenance": [],
      "collapsed_sections": [],
      "authorship_tag": "ABX9TyNvGa6ojkN/3ROLInKnoyV2",
      "include_colab_link": true
    },
    "kernelspec": {
      "name": "python3",
      "display_name": "Python 3"
    },
    "language_info": {
      "name": "python"
    }
  },
  "cells": [
    {
      "cell_type": "markdown",
      "metadata": {
        "id": "view-in-github",
        "colab_type": "text"
      },
      "source": [
        "<a href=\"https://colab.research.google.com/github/3C37/3C37-s-Storage/blob/main/%EB%8D%B1.ipynb\" target=\"_parent\"><img src=\"https://colab.research.google.com/assets/colab-badge.svg\" alt=\"Open In Colab\"/></a>"
      ]
    },
    {
      "cell_type": "code",
      "execution_count": 5,
      "metadata": {
        "colab": {
          "base_uri": "https://localhost:8080/"
        },
        "id": "WG6xygUujwZ9",
        "outputId": "7920af42-914b-495f-919e-a9da5c36c362"
      },
      "outputs": [
        {
          "output_type": "stream",
          "name": "stdout",
          "text": [
            "15\n",
            "push_back 1\n",
            "push_front 2\n",
            "front\n",
            "2\n",
            "back\n",
            "1\n",
            "size\n",
            "2\n",
            "empty\n",
            "0\n",
            "pop_front\n",
            "2\n",
            "pop_back\n",
            "1\n",
            "pop_front\n",
            "-1\n",
            "size\n",
            "0\n",
            "empty\n",
            "1\n",
            "pop_back\n",
            "-1\n",
            "push_front 3\n",
            "empty\n",
            "0\n",
            "front\n",
            "3\n"
          ]
        }
      ],
      "source": [
        "## https://www.acmicpc.net/problem/10866\n",
        "\n",
        "deck = []\n",
        "\n",
        "def deque_func(x):\n",
        "  if x[0] == \"push_front\":\n",
        "    deck.insert(0, x[1])\n",
        "  elif x[0] == \"push_back\":\n",
        "    deck.append(x[1])\n",
        "  elif x[0] == \"pop_front\":\n",
        "    if len(deck) == 0:\n",
        "      print(\"-1\")\n",
        "    else:\n",
        "      print(deck.pop(0))\n",
        "  elif x[0] == \"pop_back\":\n",
        "    if len(deck) == 0:\n",
        "      print(\"-1\")\n",
        "    else:\n",
        "      print(deck.pop())\n",
        "  elif x[0] == \"size\":\n",
        "    print(len(deck))\n",
        "  elif x[0] == \"empty\":\n",
        "    if len(deck) == 0:\n",
        "      print(1)\n",
        "    else:\n",
        "      print(0)\n",
        "  elif x[0] == \"front\":\n",
        "    if len(deck) == 0:\n",
        "      print(-1)\n",
        "    else:\n",
        "      print(deck[0])\n",
        "  elif x[0] == \"back\":\n",
        "    if len(deck) == 0:\n",
        "      print(-1)\n",
        "    else:\n",
        "      print(deck[len(deck) - 1])\n",
        "\n",
        "for i in range(int(input())):\n",
        "  deque_func(list(input().split()))"
      ]
    }
  ]
}