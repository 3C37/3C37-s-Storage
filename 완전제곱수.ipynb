{
  "nbformat": 4,
  "nbformat_minor": 0,
  "metadata": {
    "colab": {
      "name": "완전제곱수.ipynb",
      "provenance": [],
      "collapsed_sections": [],
      "authorship_tag": "ABX9TyOWM0h2JWA9/CA9BxBRR/Wz",
      "include_colab_link": true
    },
    "kernelspec": {
      "name": "python3",
      "display_name": "Python 3"
    },
    "language_info": {
      "name": "python"
    }
  },
  "cells": [
    {
      "cell_type": "markdown",
      "metadata": {
        "id": "view-in-github",
        "colab_type": "text"
      },
      "source": [
        "<a href=\"https://colab.research.google.com/github/3C37/3C37-s-Storage/blob/main/%EC%99%84%EC%A0%84%EC%A0%9C%EA%B3%B1%EC%88%98.ipynb\" target=\"_parent\"><img src=\"https://colab.research.google.com/assets/colab-badge.svg\" alt=\"Open In Colab\"/></a>"
      ]
    },
    {
      "cell_type": "code",
      "execution_count": 19,
      "metadata": {
        "colab": {
          "base_uri": "https://localhost:8080/"
        },
        "id": "V2MT1uIrCsnx",
        "outputId": "dabc768d-341d-4a6e-e89d-4c10dd7a80f0"
      },
      "outputs": [
        {
          "output_type": "stream",
          "name": "stdout",
          "text": [
            "60\n",
            "100\n",
            "245\n",
            "64\n"
          ]
        }
      ],
      "source": [
        "## https://www.acmicpc.net/problem/1977\n",
        "\n",
        "import heapq\n",
        "\n",
        "M = int(input())\n",
        "N = int(input())\n",
        "nums = []\n",
        "\n",
        "for x in range(M, N + 1):\n",
        "  if (x**0.5) == int(x**0.5):\n",
        "    heapq.heappush(nums, (-x, x))\n",
        "\n",
        "if not nums:\n",
        "  print(-1)\n",
        "else:\n",
        "  sum = 0\n",
        "  while nums:\n",
        "    min = heapq.heappop(nums)[1]\n",
        "    sum += min\n",
        "  \n",
        "  print(sum)\n",
        "  print(min)"
      ]
    }
  ]
}