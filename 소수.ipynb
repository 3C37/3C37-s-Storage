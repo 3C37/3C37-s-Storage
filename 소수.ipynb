{
  "nbformat": 4,
  "nbformat_minor": 0,
  "metadata": {
    "colab": {
      "name": "소수.ipynb",
      "provenance": [],
      "authorship_tag": "ABX9TyN8rXJyNdVC/iavESRrj5SB",
      "include_colab_link": true
    },
    "kernelspec": {
      "name": "python3",
      "display_name": "Python 3"
    },
    "language_info": {
      "name": "python"
    }
  },
  "cells": [
    {
      "cell_type": "markdown",
      "metadata": {
        "id": "view-in-github",
        "colab_type": "text"
      },
      "source": [
        "<a href=\"https://colab.research.google.com/github/3C37/3C37-s-Storage/blob/main/%EC%86%8C%EC%88%98.ipynb\" target=\"_parent\"><img src=\"https://colab.research.google.com/assets/colab-badge.svg\" alt=\"Open In Colab\"/></a>"
      ]
    },
    {
      "cell_type": "code",
      "execution_count": 26,
      "metadata": {
        "colab": {
          "base_uri": "https://localhost:8080/"
        },
        "id": "KGaSbUf9dVBm",
        "outputId": "e27097cb-91dd-428a-fe48-d1df14cbc331"
      },
      "outputs": [
        {
          "output_type": "stream",
          "name": "stdout",
          "text": [
            "64\n",
            "65\n",
            "-1\n"
          ]
        }
      ],
      "source": [
        "## https://www.acmicpc.net/problem/2581\n",
        "\n",
        "M = int(input())\n",
        "N = int(input())\n",
        "\n",
        "prime = [True] * (N + 1)\n",
        "prime[0] = False\n",
        "prime[1] = False\n",
        "\n",
        "for i in range(2, int(N**0.5) + 1):\n",
        "  for j in range(2*i, N + 1, i):\n",
        "    prime[j] = False\n",
        "\n",
        "primelst = []\n",
        "\n",
        "for i in range(M, len(prime)):\n",
        "  if prime[i]:\n",
        "    primelst.append(i)\n",
        "\n",
        "if len(primelst) != 0:\n",
        "  sum = 0\n",
        "  for i in primelst:\n",
        "    sum += i\n",
        "  print(sum)\n",
        "  print(primelst[0])\n",
        "else:\n",
        "  print(-1)"
      ]
    }
  ]
}