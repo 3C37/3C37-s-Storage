{
  "nbformat": 4,
  "nbformat_minor": 0,
  "metadata": {
    "colab": {
      "name": "첼시를 도와줘.ipynb",
      "provenance": [],
      "collapsed_sections": [],
      "authorship_tag": "ABX9TyO8Ea3+ByMhOzgaJ7NNowff",
      "include_colab_link": true
    },
    "kernelspec": {
      "name": "python3",
      "display_name": "Python 3"
    },
    "language_info": {
      "name": "python"
    }
  },
  "cells": [
    {
      "cell_type": "markdown",
      "metadata": {
        "id": "view-in-github",
        "colab_type": "text"
      },
      "source": [
        "<a href=\"https://colab.research.google.com/github/3C37/3C37-s-Storage/blob/main/%EC%B2%BC%EC%8B%9C%EB%A5%BC_%EB%8F%84%EC%99%80%EC%A4%98.ipynb\" target=\"_parent\"><img src=\"https://colab.research.google.com/assets/colab-badge.svg\" alt=\"Open In Colab\"/></a>"
      ]
    },
    {
      "cell_type": "code",
      "execution_count": 4,
      "metadata": {
        "colab": {
          "base_uri": "https://localhost:8080/"
        },
        "id": "F3YlVSpUAlf0",
        "outputId": "599994ed-977c-4216-b9df-32f34729f426"
      },
      "outputs": [
        {
          "output_type": "stream",
          "name": "stdout",
          "text": [
            "2\n",
            "3\n",
            "10 Iversen\n",
            "1000000 Nannskog\n",
            "2000000 Ronaldinho\n",
            "Ronaldinho\n",
            "2\n",
            "1000000 Maradona\n",
            "999999 Batistuta\n",
            "Maradona\n"
          ]
        }
      ],
      "source": [
        "## https://www.acmicpc.net/problem/11098\n",
        "\n",
        "import heapq\n",
        "\n",
        "n = int(input())\n",
        "\n",
        "for i in range(n):\n",
        "  p = int(input())\n",
        "  players = []\n",
        "\n",
        "  for j in range(p):\n",
        "    price, name = input().split()\n",
        "    heapq.heappush(players, (-int(price), name))\n",
        "  \n",
        "  print(heapq.heappop(players)[1])"
      ]
    }
  ]
}