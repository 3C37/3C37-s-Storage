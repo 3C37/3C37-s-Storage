{
  "nbformat": 4,
  "nbformat_minor": 0,
  "metadata": {
    "colab": {
      "name": "별 찍기 - 7.ipynb",
      "provenance": [],
      "collapsed_sections": [],
      "authorship_tag": "ABX9TyN4cXFwIlBxxMMvDkc6VbKD",
      "include_colab_link": true
    },
    "kernelspec": {
      "name": "python3",
      "display_name": "Python 3"
    },
    "language_info": {
      "name": "python"
    }
  },
  "cells": [
    {
      "cell_type": "markdown",
      "metadata": {
        "id": "view-in-github",
        "colab_type": "text"
      },
      "source": [
        "<a href=\"https://colab.research.google.com/github/3C37/3C37-s-Storage/blob/main/%EB%B3%84_%EC%B0%8D%EA%B8%B0_7.ipynb\" target=\"_parent\"><img src=\"https://colab.research.google.com/assets/colab-badge.svg\" alt=\"Open In Colab\"/></a>"
      ]
    },
    {
      "cell_type": "code",
      "execution_count": 13,
      "metadata": {
        "colab": {
          "base_uri": "https://localhost:8080/"
        },
        "id": "KAhFVKqALIyd",
        "outputId": "4f7c8e41-5417-48b5-8992-f30aad61a034"
      },
      "outputs": [
        {
          "output_type": "stream",
          "name": "stdout",
          "text": [
            "5\n",
            "    *\n",
            "   ***\n",
            "  *****\n",
            " *******\n",
            "*********\n",
            " *******\n",
            "  *****\n",
            "   ***\n",
            "    *\n"
          ]
        }
      ],
      "source": [
        "## https://www.acmicpc.net/problem/2444\n",
        "\n",
        "N = int(input())\n",
        "\n",
        "for i in range(1, N+1):\n",
        "  print(\"%s%s\"%(\" \"*(N-i), \"*\"*(i*2-1)))\n",
        "for i in range(N - 1, 0, -1):\n",
        "  print(\"%s%s\"%(\" \"*(N-i), \"*\"*(i*2-1)))"
      ]
    }
  ]
}