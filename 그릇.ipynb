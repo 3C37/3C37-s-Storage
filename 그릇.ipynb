{
  "nbformat": 4,
  "nbformat_minor": 0,
  "metadata": {
    "colab": {
      "name": "그릇.ipynb",
      "provenance": [],
      "collapsed_sections": [],
      "authorship_tag": "ABX9TyPj8cvd74iLW3tJJBcSMwMN",
      "include_colab_link": true
    },
    "kernelspec": {
      "name": "python3",
      "display_name": "Python 3"
    },
    "language_info": {
      "name": "python"
    }
  },
  "cells": [
    {
      "cell_type": "markdown",
      "metadata": {
        "id": "view-in-github",
        "colab_type": "text"
      },
      "source": [
        "<a href=\"https://colab.research.google.com/github/3C37/3C37-s-Storage/blob/main/%EA%B7%B8%EB%A6%87.ipynb\" target=\"_parent\"><img src=\"https://colab.research.google.com/assets/colab-badge.svg\" alt=\"Open In Colab\"/></a>"
      ]
    },
    {
      "cell_type": "code",
      "execution_count": 11,
      "metadata": {
        "colab": {
          "base_uri": "https://localhost:8080/"
        },
        "id": "i27wKgVq7ZwM",
        "outputId": "9159d2ce-49ef-4629-ac1d-d7ea2702e9b3"
      },
      "outputs": [
        {
          "output_type": "stream",
          "name": "stdout",
          "text": [
            "()()()))(\n",
            "80\n"
          ]
        }
      ],
      "source": [
        "## https://www.acmicpc.net/problem/7567\n",
        "\n",
        "bowl = input()\n",
        "\n",
        "height = 10\n",
        "\n",
        "for i in range(1, len(bowl)):\n",
        "  if bowl[i] != bowl[i - 1]:\n",
        "    height += 10\n",
        "  else:\n",
        "    height += 5\n",
        "\n",
        "print(height)"
      ]
    }
  ]
}