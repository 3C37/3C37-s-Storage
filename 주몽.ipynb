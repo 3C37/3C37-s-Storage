{
  "nbformat": 4,
  "nbformat_minor": 0,
  "metadata": {
    "colab": {
      "name": "주몽.ipynb",
      "provenance": [],
      "collapsed_sections": [],
      "authorship_tag": "ABX9TyM+Sp5J5L/iWGuCR+rYNUcp",
      "include_colab_link": true
    },
    "kernelspec": {
      "name": "python3",
      "display_name": "Python 3"
    },
    "language_info": {
      "name": "python"
    }
  },
  "cells": [
    {
      "cell_type": "markdown",
      "metadata": {
        "id": "view-in-github",
        "colab_type": "text"
      },
      "source": [
        "<a href=\"https://colab.research.google.com/github/3C37/3C37-s-Storage/blob/main/%EC%A3%BC%EB%AA%BD.ipynb\" target=\"_parent\"><img src=\"https://colab.research.google.com/assets/colab-badge.svg\" alt=\"Open In Colab\"/></a>"
      ]
    },
    {
      "cell_type": "code",
      "execution_count": 19,
      "metadata": {
        "colab": {
          "base_uri": "https://localhost:8080/"
        },
        "id": "FYlIrQE6Am9S",
        "outputId": "683cd113-c764-4dc5-ae62-1f0ee5e808f8"
      },
      "outputs": [
        {
          "output_type": "stream",
          "name": "stdout",
          "text": [
            "6\n",
            "9\n",
            "2 7 4 1 5 3\n",
            "2\n"
          ]
        }
      ],
      "source": [
        "## https://www.acmicpc.net/problem/1940\n",
        "\n",
        "N = int(input())\n",
        "M = int(input())\n",
        "rsrc = list(map(int, input().split()))\n",
        "rsrc.sort()\n",
        "armor = 0\n",
        "left, right = 0, N - 1\n",
        "while left < right:\n",
        "  if rsrc[left] + rsrc[right] == M:\n",
        "    armor += 1\n",
        "    left += 1\n",
        "    right -= 1\n",
        "  elif rsrc[left] + rsrc[right] < M:\n",
        "    left += 1\n",
        "  else:\n",
        "    right -= 1\n",
        "\n",
        "print(armor)"
      ]
    }
  ]
}