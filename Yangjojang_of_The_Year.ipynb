{
  "nbformat": 4,
  "nbformat_minor": 0,
  "metadata": {
    "colab": {
      "name": "Yangjojang of The Year.ipynb",
      "provenance": [],
      "collapsed_sections": [],
      "authorship_tag": "ABX9TyO4fIrPIB4phDelN+2Jntdj",
      "include_colab_link": true
    },
    "kernelspec": {
      "name": "python3",
      "display_name": "Python 3"
    },
    "language_info": {
      "name": "python"
    }
  },
  "cells": [
    {
      "cell_type": "markdown",
      "metadata": {
        "id": "view-in-github",
        "colab_type": "text"
      },
      "source": [
        "<a href=\"https://colab.research.google.com/github/3C37/3C37-s-Storage/blob/main/Yangjojang_of_The_Year.ipynb\" target=\"_parent\"><img src=\"https://colab.research.google.com/assets/colab-badge.svg\" alt=\"Open In Colab\"/></a>"
      ]
    },
    {
      "cell_type": "code",
      "execution_count": 9,
      "metadata": {
        "colab": {
          "base_uri": "https://localhost:8080/"
        },
        "id": "O2SwYAIcu-rT",
        "outputId": "b01ea3bd-02ad-4622-fffb-4fa2ea066758"
      },
      "outputs": [
        {
          "output_type": "stream",
          "name": "stdout",
          "text": [
            "2\n",
            "3\n",
            "Yonsei 10\n",
            "Korea 10000000\n",
            "Ewha 20\n",
            "Korea\n",
            "2\n",
            "Yonsei 1\n",
            "Korea 10000000\n",
            "Korea\n"
          ]
        }
      ],
      "source": [
        "## https://www.acmicpc.net/problem/11557\n",
        "\n",
        "import heapq\n",
        "\n",
        "T = int(input())\n",
        "\n",
        "record = []\n",
        "\n",
        "for T in range(T):\n",
        "  N = int(input())\n",
        "  for i in range(N):\n",
        "\n",
        "    S, L = input().split()\n",
        "    heapq.heappush(record, [-int(L), S])\n",
        "\n",
        "  print(heapq.heappop(record)[1])"
      ]
    }
  ]
}