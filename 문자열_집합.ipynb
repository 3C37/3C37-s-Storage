{
  "nbformat": 4,
  "nbformat_minor": 0,
  "metadata": {
    "colab": {
      "name": "문자열 집합.ipynb",
      "provenance": [],
      "collapsed_sections": [],
      "authorship_tag": "ABX9TyPCXsIJk/fQG22YEXsd8o/M",
      "include_colab_link": true
    },
    "kernelspec": {
      "name": "python3",
      "display_name": "Python 3"
    },
    "language_info": {
      "name": "python"
    }
  },
  "cells": [
    {
      "cell_type": "markdown",
      "metadata": {
        "id": "view-in-github",
        "colab_type": "text"
      },
      "source": [
        "<a href=\"https://colab.research.google.com/github/3C37/3C37-s-Storage/blob/main/%EB%AC%B8%EC%9E%90%EC%97%B4_%EC%A7%91%ED%95%A9.ipynb\" target=\"_parent\"><img src=\"https://colab.research.google.com/assets/colab-badge.svg\" alt=\"Open In Colab\"/></a>"
      ]
    },
    {
      "cell_type": "code",
      "execution_count": 11,
      "metadata": {
        "colab": {
          "base_uri": "https://localhost:8080/"
        },
        "id": "CprTZCrupFPL",
        "outputId": "e2a42bed-6074-4f5f-8a04-ce90f0fa266e"
      },
      "outputs": [
        {
          "output_type": "stream",
          "name": "stdout",
          "text": [
            "5 11\n",
            "baekjoononlinejudge\n",
            "startlink\n",
            "codeplus\n",
            "sundaycoding\n",
            "codingsh\n",
            "baekjoon\n",
            "codeplus\n",
            "codeminus\n",
            "startlink\n",
            "starlink\n",
            "sundaycoding\n",
            "codingsh\n",
            "codinghs\n",
            "sondaycoding\n",
            "startrink\n",
            "icerink\n",
            "4\n"
          ]
        }
      ],
      "source": [
        "## https://www.acmicpc.net/problem/14425\n",
        "\n",
        "sts1, sts2 = map(int,input().split())\n",
        "\n",
        "myset = set()\n",
        "\n",
        "cnt = 0\n",
        "\n",
        "for sts1 in range(sts1):\n",
        "  myset.add(input())\n",
        "\n",
        "for sts2 in range(sts2):\n",
        "  if input() in myset:\n",
        "    cnt += 1\n",
        "\n",
        "print(cnt)"
      ]
    }
  ]
}