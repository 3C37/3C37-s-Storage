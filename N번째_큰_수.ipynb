{
  "nbformat": 4,
  "nbformat_minor": 0,
  "metadata": {
    "colab": {
      "name": "N번째 큰 수.ipynb",
      "provenance": [],
      "collapsed_sections": [],
      "authorship_tag": "ABX9TyMTASTa1oNgeVfmHB0l70Un",
      "include_colab_link": true
    },
    "kernelspec": {
      "name": "python3",
      "display_name": "Python 3"
    },
    "language_info": {
      "name": "python"
    }
  },
  "cells": [
    {
      "cell_type": "markdown",
      "metadata": {
        "id": "view-in-github",
        "colab_type": "text"
      },
      "source": [
        "<a href=\"https://colab.research.google.com/github/3C37/3C37-s-Storage/blob/main/N%EB%B2%88%EC%A7%B8_%ED%81%B0_%EC%88%98.ipynb\" target=\"_parent\"><img src=\"https://colab.research.google.com/assets/colab-badge.svg\" alt=\"Open In Colab\"/></a>"
      ]
    },
    {
      "cell_type": "code",
      "execution_count": 33,
      "metadata": {
        "colab": {
          "base_uri": "https://localhost:8080/"
        },
        "id": "cC4UIp1bEX6v",
        "outputId": "cc923451-2b39-4f41-c986-c48a1272f0cb"
      },
      "outputs": [
        {
          "output_type": "stream",
          "name": "stdout",
          "text": [
            "5\n",
            "12 7 9 15 5\n",
            "13 8 11 19 6\n",
            "21 10 26 31 16\n",
            "48 14 28 35 25\n",
            "52 20 32 41 49\n",
            "35\n"
          ]
        }
      ],
      "source": [
        "## https://www.acmicpc.net/problem/2075\n",
        "\n",
        "import heapq\n",
        "\n",
        "cy = int(input())\n",
        "\n",
        "matrix = []\n",
        "\n",
        "for i in range(cy):\n",
        "  for i in map(int, input().split()):\n",
        "    heapq.heappush(matrix, i)\n",
        "    if cy < len(matrix):\n",
        "      result = heapq.heappop(matrix)\n",
        "\n",
        "print(heapq.heappop(matrix))\n",
        "\n"
      ]
    }
  ]
}