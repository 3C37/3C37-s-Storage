{
  "nbformat": 4,
  "nbformat_minor": 0,
  "metadata": {
    "colab": {
      "name": "별 찍기 - 8.ipynb",
      "provenance": [],
      "collapsed_sections": [],
      "authorship_tag": "ABX9TyPt6Z/nsPJsJj/sXeDjm5Jm",
      "include_colab_link": true
    },
    "kernelspec": {
      "name": "python3",
      "display_name": "Python 3"
    },
    "language_info": {
      "name": "python"
    }
  },
  "cells": [
    {
      "cell_type": "markdown",
      "metadata": {
        "id": "view-in-github",
        "colab_type": "text"
      },
      "source": [
        "<a href=\"https://colab.research.google.com/github/3C37/3C37-s-Storage/blob/main/%EB%B3%84_%EC%B0%8D%EA%B8%B0_8.ipynb\" target=\"_parent\"><img src=\"https://colab.research.google.com/assets/colab-badge.svg\" alt=\"Open In Colab\"/></a>"
      ]
    },
    {
      "cell_type": "code",
      "execution_count": 3,
      "metadata": {
        "colab": {
          "base_uri": "https://localhost:8080/"
        },
        "id": "KAhFVKqALIyd",
        "outputId": "f3cc1cd2-74a4-47bd-8cbf-6da73496f7b7"
      },
      "outputs": [
        {
          "output_type": "stream",
          "name": "stdout",
          "text": [
            "5\n",
            "*        *\n",
            "**      **\n",
            "***    ***\n",
            "****  ****\n",
            "**********\n",
            "****  ****\n",
            "***    ***\n",
            "**      **\n",
            "*        *\n"
          ]
        }
      ],
      "source": [
        "## https://www.acmicpc.net/problem/2444\n",
        "\n",
        "N = int(input())\n",
        "\n",
        "for i in range(1, N+1):\n",
        "  print(\"%s%s%s\"%(\"*\"*i, \" \"*(N-i)*2, \"*\"*i))\n",
        "for i in range(N - 1, 0, -1):\n",
        "  print(\"%s%s%s\"%(\"*\"*i, \" \"*(N-i)*2, \"*\"*i))"
      ]
    }
  ]
}