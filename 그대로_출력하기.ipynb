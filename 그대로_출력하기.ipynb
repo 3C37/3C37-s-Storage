{
  "nbformat": 4,
  "nbformat_minor": 0,
  "metadata": {
    "colab": {
      "name": "그대로 출력하기.ipynb",
      "provenance": [],
      "collapsed_sections": [],
      "authorship_tag": "ABX9TyOqkcK6+2JJolSvaII2a4Zm",
      "include_colab_link": true
    },
    "kernelspec": {
      "name": "python3",
      "display_name": "Python 3"
    },
    "language_info": {
      "name": "python"
    }
  },
  "cells": [
    {
      "cell_type": "markdown",
      "metadata": {
        "id": "view-in-github",
        "colab_type": "text"
      },
      "source": [
        "<a href=\"https://colab.research.google.com/github/3C37/3C37-s-Storage/blob/main/%EA%B7%B8%EB%8C%80%EB%A1%9C_%EC%B6%9C%EB%A0%A5%ED%95%98%EA%B8%B0.ipynb\" target=\"_parent\"><img src=\"https://colab.research.google.com/assets/colab-badge.svg\" alt=\"Open In Colab\"/></a>"
      ]
    },
    {
      "cell_type": "code",
      "execution_count": 1,
      "metadata": {
        "colab": {
          "base_uri": "https://localhost:8080/"
        },
        "id": "hL1MMOnIN1F2",
        "outputId": "ac3a3438-dee2-41a6-94c2-d6c1be2cd9f8"
      },
      "outputs": [
        {
          "output_type": "stream",
          "name": "stdout",
          "text": [
            "Hello\n",
            "Hello\n",
            "Baekjoon\n",
            "Baekjoon\n",
            "Online Judge\n",
            "Online Judge\n"
          ]
        }
      ],
      "source": [
        "## https://www.acmicpc.net/problem/11718\n",
        "\n",
        "for i in range(100):\n",
        "  try:\n",
        "    print(input())\n",
        "  except:\n",
        "    break"
      ]
    }
  ]
}