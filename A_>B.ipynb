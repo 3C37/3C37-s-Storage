{
  "nbformat": 4,
  "nbformat_minor": 0,
  "metadata": {
    "colab": {
      "name": "A->B.ipynb",
      "provenance": [],
      "collapsed_sections": [],
      "authorship_tag": "ABX9TyO1Xy91QZaVQNIPF+dWs/gJ",
      "include_colab_link": true
    },
    "kernelspec": {
      "name": "python3",
      "display_name": "Python 3"
    },
    "language_info": {
      "name": "python"
    }
  },
  "cells": [
    {
      "cell_type": "markdown",
      "metadata": {
        "id": "view-in-github",
        "colab_type": "text"
      },
      "source": [
        "<a href=\"https://colab.research.google.com/github/3C37/3C37-s-Storage/blob/main/A_%3EB.ipynb\" target=\"_parent\"><img src=\"https://colab.research.google.com/assets/colab-badge.svg\" alt=\"Open In Colab\"/></a>"
      ]
    },
    {
      "cell_type": "code",
      "execution_count": 3,
      "metadata": {
        "id": "L7krp4QWb-G1",
        "colab": {
          "base_uri": "https://localhost:8080/"
        },
        "outputId": "d0f45931-cff2-4164-8750-11b63f584f67"
      },
      "outputs": [
        {
          "output_type": "stream",
          "name": "stdout",
          "text": [
            "2 162\n",
            "5\n"
          ]
        }
      ],
      "source": [
        "## https://www.acmicpc.net/problem/16953\n",
        "\n",
        "A, B = map(int, input().split())\n",
        "\n",
        "cnt = 1\n",
        "\n",
        "try:\n",
        "  while True:\n",
        "    if A != B:\n",
        "      cnt += 1\n",
        "      if B%2 == 0:\n",
        "        B = B//2\n",
        "      else:\n",
        "        if B%10 == 1:\n",
        "          B = int(str(B)[:-1])\n",
        "        else:\n",
        "          print(-1)\n",
        "          break\n",
        "    else:\n",
        "      print(cnt)\n",
        "      break\n",
        "except:\n",
        "  print(-1)"
      ]
    }
  ]
}