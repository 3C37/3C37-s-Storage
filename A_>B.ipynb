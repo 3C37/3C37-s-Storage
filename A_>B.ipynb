{
  "nbformat": 4,
  "nbformat_minor": 0,
  "metadata": {
    "colab": {
      "name": "A->B.ipynb",
      "provenance": [],
      "collapsed_sections": [],
      "authorship_tag": "ABX9TyNtZ0i39M51vosQJQQBXQpr",
      "include_colab_link": true
    },
    "kernelspec": {
      "name": "python3",
      "display_name": "Python 3"
    },
    "language_info": {
      "name": "python"
    }
  },
  "cells": [
    {
      "cell_type": "markdown",
      "metadata": {
        "id": "view-in-github",
        "colab_type": "text"
      },
      "source": [
        "<a href=\"https://colab.research.google.com/github/3C37/3C37-s-Storage/blob/main/A_%3EB.ipynb\" target=\"_parent\"><img src=\"https://colab.research.google.com/assets/colab-badge.svg\" alt=\"Open In Colab\"/></a>"
      ]
    },
    {
      "cell_type": "code",
      "execution_count": null,
      "metadata": {
        "id": "L7krp4QWb-G1"
      },
      "outputs": [],
      "source": [
        "## https://www.acmicpc.net/problem/16953\n",
        "\n",
        "A, B = map(int, input().split())\n",
        "\n",
        "cnt = 1\n",
        "\n",
        "try:\n",
        "  while True:\n",
        "    if A != B:\n",
        "      cnt += 1\n",
        "      if B%2 == 0:\n",
        "        B = int(B/2)\n",
        "      else:\n",
        "        if int(str(B)[-1:]) == 1:\n",
        "          B = int(str(B)[:-1])\n",
        "        else:\n",
        "          print(-1)\n",
        "          break\n",
        "    else:\n",
        "      print(cnt)\n",
        "      break\n",
        "except:\n",
        "  print(-1)"
      ]
    }
  ]
}