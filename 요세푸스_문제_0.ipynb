{
  "nbformat": 4,
  "nbformat_minor": 0,
  "metadata": {
    "colab": {
      "name": "요세푸스 문제 0.ipynb",
      "provenance": [],
      "collapsed_sections": [],
      "authorship_tag": "ABX9TyPrxSvUDjTpi/LIS7LjAt94",
      "include_colab_link": true
    },
    "kernelspec": {
      "name": "python3",
      "display_name": "Python 3"
    },
    "language_info": {
      "name": "python"
    }
  },
  "cells": [
    {
      "cell_type": "markdown",
      "metadata": {
        "id": "view-in-github",
        "colab_type": "text"
      },
      "source": [
        "<a href=\"https://colab.research.google.com/github/3C37/3C37-s-Storage/blob/main/%EC%9A%94%EC%84%B8%ED%91%B8%EC%8A%A4_%EB%AC%B8%EC%A0%9C_0.ipynb\" target=\"_parent\"><img src=\"https://colab.research.google.com/assets/colab-badge.svg\" alt=\"Open In Colab\"/></a>"
      ]
    },
    {
      "cell_type": "code",
      "execution_count": 37,
      "metadata": {
        "id": "SQSmctTGCUd5",
        "colab": {
          "base_uri": "https://localhost:8080/"
        },
        "outputId": "0391ba44-caf3-4427-906d-26759b32bd36"
      },
      "outputs": [
        {
          "output_type": "stream",
          "name": "stdout",
          "text": [
            "7 3\n",
            "<3, 6, 2, 7, 5, 1, 4>\n"
          ]
        }
      ],
      "source": [
        "## https://www.acmicpc.net/problem/11866\n",
        "\n",
        "from collections import deque\n",
        "\n",
        "N, K = map(int, input().split())\n",
        "\n",
        "nums = deque()\n",
        "\n",
        "for i in range(1, N + 1):\n",
        "  nums.append(int(i))\n",
        "\n",
        "result = []\n",
        "c = 1\n",
        "\n",
        "while nums:\n",
        "  if c%K == 0:\n",
        "    result.append(str(nums.popleft()))\n",
        "  else:\n",
        "    nums.append(nums.popleft())\n",
        "  c += 1\n",
        "\n",
        "print(\"<\"+\", \".join(result)+\">\")"
      ]
    }
  ]
}