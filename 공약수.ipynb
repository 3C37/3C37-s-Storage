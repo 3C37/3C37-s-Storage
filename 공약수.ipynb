{
  "nbformat": 4,
  "nbformat_minor": 0,
  "metadata": {
    "colab": {
      "name": "공약수.ipynb",
      "provenance": [],
      "collapsed_sections": [],
      "authorship_tag": "ABX9TyP84I+Kvr+nLleIlXcLzLmC",
      "include_colab_link": true
    },
    "kernelspec": {
      "name": "python3",
      "display_name": "Python 3"
    },
    "language_info": {
      "name": "python"
    }
  },
  "cells": [
    {
      "cell_type": "markdown",
      "metadata": {
        "id": "view-in-github",
        "colab_type": "text"
      },
      "source": [
        "<a href=\"https://colab.research.google.com/github/3C37/3C37-s-Storage/blob/main/%EA%B3%B5%EC%95%BD%EC%88%98.ipynb\" target=\"_parent\"><img src=\"https://colab.research.google.com/assets/colab-badge.svg\" alt=\"Open In Colab\"/></a>"
      ]
    },
    {
      "cell_type": "code",
      "execution_count": 11,
      "metadata": {
        "colab": {
          "base_uri": "https://localhost:8080/"
        },
        "id": "ydwRftu0BvUl",
        "outputId": "1f539d23-fe26-4735-b793-78c24ba23405"
      },
      "outputs": [
        {
          "output_type": "stream",
          "name": "stdout",
          "text": [
            "3\n",
            "110 22 88\n",
            "1\n",
            "2\n",
            "11\n",
            "22\n"
          ]
        }
      ],
      "source": [
        "## https://www.acmicpc.net/problem/5618\n",
        "\n",
        "n = int(input())\n",
        "\n",
        "def gcd(a, b):\n",
        "  A, B = max(a, b), min(a, b)\n",
        "  while A%B != 0:\n",
        "    A, B = B, A%B\n",
        "  return(B)\n",
        "\n",
        "def divisor(a):\n",
        "  for i in range(1, a//2 + 1):\n",
        "    if a%i == 0:\n",
        "      print(i)\n",
        "  print(a)\n",
        "\n",
        "if n == 2:\n",
        "  a, b = map(int, input().split())\n",
        "  divisor(gcd(a, b))\n",
        "else:\n",
        "  a, b, c = map(int, input().split())\n",
        "  divisor(gcd(gcd(a, b), c))"
      ]
    }
  ]
}