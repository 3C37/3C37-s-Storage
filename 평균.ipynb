{
  "nbformat": 4,
  "nbformat_minor": 0,
  "metadata": {
    "colab": {
      "name": "평균.ipynb",
      "provenance": [],
      "collapsed_sections": [],
      "authorship_tag": "ABX9TyMtUyJu/nY0fE3F/rQSfEZz",
      "include_colab_link": true
    },
    "kernelspec": {
      "name": "python3",
      "display_name": "Python 3"
    },
    "language_info": {
      "name": "python"
    }
  },
  "cells": [
    {
      "cell_type": "markdown",
      "metadata": {
        "id": "view-in-github",
        "colab_type": "text"
      },
      "source": [
        "<a href=\"https://colab.research.google.com/github/3C37/3C37-s-Storage/blob/main/%ED%8F%89%EA%B7%A0.ipynb\" target=\"_parent\"><img src=\"https://colab.research.google.com/assets/colab-badge.svg\" alt=\"Open In Colab\"/></a>"
      ]
    },
    {
      "cell_type": "code",
      "execution_count": 6,
      "metadata": {
        "colab": {
          "base_uri": "https://localhost:8080/"
        },
        "id": "HNacuILRFPON",
        "outputId": "f6ee9525-ad0b-4c21-f5d4-cfa987cfc671"
      },
      "outputs": [
        {
          "output_type": "stream",
          "name": "stdout",
          "text": [
            "4\n",
            "1 100 100 100\n",
            "75.25\n"
          ]
        }
      ],
      "source": [
        "## https://www.acmicpc.net/problem/1546\n",
        "\n",
        "N = int(input())\n",
        "\n",
        "scores = list(map(int, input().split()))\n",
        "\n",
        "result = 0\n",
        "\n",
        "for i in scores:\n",
        "  result += i/max(scores)*100\n",
        "\n",
        "print(result/N)"
      ]
    }
  ]
}