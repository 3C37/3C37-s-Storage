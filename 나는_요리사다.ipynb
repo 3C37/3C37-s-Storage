{
  "nbformat": 4,
  "nbformat_minor": 0,
  "metadata": {
    "colab": {
      "name": "나는 요리사다.ipynb",
      "provenance": [],
      "collapsed_sections": [],
      "authorship_tag": "ABX9TyMcqUeKRoLXr9F5frWlNoLN",
      "include_colab_link": true
    },
    "kernelspec": {
      "name": "python3",
      "display_name": "Python 3"
    },
    "language_info": {
      "name": "python"
    }
  },
  "cells": [
    {
      "cell_type": "markdown",
      "metadata": {
        "id": "view-in-github",
        "colab_type": "text"
      },
      "source": [
        "<a href=\"https://colab.research.google.com/github/3C37/3C37-s-Storage/blob/main/%EB%82%98%EB%8A%94_%EC%9A%94%EB%A6%AC%EC%82%AC%EB%8B%A4.ipynb\" target=\"_parent\"><img src=\"https://colab.research.google.com/assets/colab-badge.svg\" alt=\"Open In Colab\"/></a>"
      ]
    },
    {
      "cell_type": "code",
      "execution_count": 3,
      "metadata": {
        "colab": {
          "base_uri": "https://localhost:8080/"
        },
        "id": "a4wFaWWc_bvr",
        "outputId": "862457c8-11d8-48c8-8091-8f840f123f07"
      },
      "outputs": [
        {
          "output_type": "stream",
          "name": "stdout",
          "text": [
            "5 4 4 5\n",
            "5 4 4 4\n",
            "5 5 4 4\n",
            "5 5 5 4\n",
            "4 4 4 5\n",
            "4 19\n"
          ]
        }
      ],
      "source": [
        "## https://www.acmicpc.net/problem/2953\n",
        "\n",
        "winner = 0\n",
        "top_score = 0\n",
        "\n",
        "for i in range(1, 6):\n",
        "  a = input()\n",
        "  sum = int(a[0]) + int(a[2]) + int(a[4]) + int(a[6]) \n",
        "\n",
        "  if top_score < sum:\n",
        "    top_score = sum\n",
        "    winner = i\n",
        "\n",
        "print(winner, top_score)"
      ]
    }
  ]
}