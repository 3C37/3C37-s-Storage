{
  "nbformat": 4,
  "nbformat_minor": 0,
  "metadata": {
    "colab": {
      "name": "시험 성적.ipynb",
      "provenance": [],
      "collapsed_sections": [],
      "authorship_tag": "ABX9TyM7rLAlPxqIfGBG6t4jl5D/",
      "include_colab_link": true
    },
    "kernelspec": {
      "name": "python3",
      "display_name": "Python 3"
    },
    "language_info": {
      "name": "python"
    }
  },
  "cells": [
    {
      "cell_type": "markdown",
      "metadata": {
        "id": "view-in-github",
        "colab_type": "text"
      },
      "source": [
        "<a href=\"https://colab.research.google.com/github/3C37/3C37-s-Storage/blob/main/%EC%8B%9C%ED%97%98_%EC%84%B1%EC%A0%81.ipynb\" target=\"_parent\"><img src=\"https://colab.research.google.com/assets/colab-badge.svg\" alt=\"Open In Colab\"/></a>"
      ]
    },
    {
      "cell_type": "code",
      "execution_count": 1,
      "metadata": {
        "colab": {
          "base_uri": "https://localhost:8080/"
        },
        "id": "iFUFlPhgRV2b",
        "outputId": "a5436178-bbcc-4dc0-984b-94143dc6591c"
      },
      "outputs": [
        {
          "output_type": "stream",
          "name": "stdout",
          "text": [
            "100\n",
            "A\n"
          ]
        }
      ],
      "source": [
        "## https://www.acmicpc.net/problem/9498\n",
        "\n",
        "score = int(input())\n",
        "\n",
        "if 100 >= score >= 90:\n",
        "  print(\"A\")\n",
        "elif 89 >= score >= 80:\n",
        "  print(\"B\")\n",
        "elif 79 >= score >= 70:\n",
        "  print(\"C\")\n",
        "elif 69 >= score >= 60:\n",
        "  print(\"D\")\n",
        "else:\n",
        "  print(\"F\")"
      ]
    }
  ]
}