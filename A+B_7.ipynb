{
  "nbformat": 4,
  "nbformat_minor": 0,
  "metadata": {
    "colab": {
      "name": "A+B - 7.ipynb",
      "provenance": [],
      "collapsed_sections": [],
      "authorship_tag": "ABX9TyNUI+IZkQOoa1gHUqZYr4yI",
      "include_colab_link": true
    },
    "kernelspec": {
      "name": "python3",
      "display_name": "Python 3"
    },
    "language_info": {
      "name": "python"
    }
  },
  "cells": [
    {
      "cell_type": "markdown",
      "metadata": {
        "id": "view-in-github",
        "colab_type": "text"
      },
      "source": [
        "<a href=\"https://colab.research.google.com/github/3C37/3C37-s-Storage/blob/main/A%2BB_7.ipynb\" target=\"_parent\"><img src=\"https://colab.research.google.com/assets/colab-badge.svg\" alt=\"Open In Colab\"/></a>"
      ]
    },
    {
      "cell_type": "code",
      "execution_count": 1,
      "metadata": {
        "colab": {
          "base_uri": "https://localhost:8080/"
        },
        "id": "3zYsbGsjhWSM",
        "outputId": "b1b97deb-111d-458a-b4c6-df3c62d9a585"
      },
      "outputs": [
        {
          "output_type": "stream",
          "name": "stdout",
          "text": [
            "5\n",
            "1 1\n",
            "Case #1: 2\n",
            "2 3\n",
            "Case #2: 5\n",
            "3 4\n",
            "Case #3: 7\n",
            "9 8\n",
            "Case #4: 17\n",
            "5 2\n",
            "Case #5: 7\n"
          ]
        }
      ],
      "source": [
        "## https://www.acmicpc.net/problem/11021\n",
        "\n",
        "T = int(input())\n",
        "\n",
        "for i in range(T):\n",
        "  A, B = map(int, input().split())\n",
        "  print(\"Case #%d: %d\"%(i+1, A+B))"
      ]
    }
  ]
}