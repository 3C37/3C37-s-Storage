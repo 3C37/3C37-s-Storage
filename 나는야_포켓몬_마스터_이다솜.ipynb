{
  "nbformat": 4,
  "nbformat_minor": 0,
  "metadata": {
    "colab": {
      "name": "나는야 포켓몬 마스터 이다솜.ipynb",
      "provenance": [],
      "collapsed_sections": [],
      "authorship_tag": "ABX9TyNuANyPrqRiml8zXVS53yDK",
      "include_colab_link": true
    },
    "kernelspec": {
      "name": "python3",
      "display_name": "Python 3"
    },
    "language_info": {
      "name": "python"
    }
  },
  "cells": [
    {
      "cell_type": "markdown",
      "metadata": {
        "id": "view-in-github",
        "colab_type": "text"
      },
      "source": [
        "<a href=\"https://colab.research.google.com/github/3C37/3C37-s-Storage/blob/main/%EB%82%98%EB%8A%94%EC%95%BC_%ED%8F%AC%EC%BC%93%EB%AA%AC_%EB%A7%88%EC%8A%A4%ED%84%B0_%EC%9D%B4%EB%8B%A4%EC%86%9C.ipynb\" target=\"_parent\"><img src=\"https://colab.research.google.com/assets/colab-badge.svg\" alt=\"Open In Colab\"/></a>"
      ]
    },
    {
      "cell_type": "code",
      "execution_count": null,
      "metadata": {
        "id": "bjMOBUD3OCFh"
      },
      "outputs": [],
      "source": [
        "## https://www.acmicpc.net/problem/1620\n",
        "\n",
        "a, b = map(int, input().split())\n",
        "\n",
        "pktms = {}\n",
        "\n",
        "for i in range(a):\n",
        "  pktms[input()] = i + 1\n",
        "\n",
        "keylst = list(pktms.keys())\n",
        "\n",
        "for j in range(b):\n",
        "  Q = str(input())\n",
        "  if Q.isdigit():\n",
        "    print(keylst[int(Q)-1])\n",
        "  else:\n",
        "    print(pktms[Q])"
      ]
    }
  ]
}